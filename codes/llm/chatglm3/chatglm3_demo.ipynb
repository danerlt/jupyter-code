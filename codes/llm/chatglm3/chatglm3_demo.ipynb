{
 "cells": [
  {
   "cell_type": "markdown",
   "id": "0a24ac13-4c73-44f7-b96c-d91ff726baa4",
   "metadata": {},
   "source": [
    "使用`chatglm3`的时候需要安装 `transformers`"
   ]
  },
  {
   "cell_type": "code",
   "execution_count": 1,
   "id": "60700229-e199-41b1-a426-039349b37568",
   "metadata": {
    "tags": []
   },
   "outputs": [
    {
     "name": "stdout",
     "output_type": "stream",
     "text": [
      "Looking in indexes: http://10.113.75.134:3141/admin/pypi/+simple/\n",
      "Requirement already satisfied: transformers==4.30.2 in /data/litao/miniconda3/envs/chatglm3/lib/python3.10/site-packages (4.30.2)\n",
      "Requirement already satisfied: filelock in /data/litao/miniconda3/envs/chatglm3/lib/python3.10/site-packages (from transformers==4.30.2) (3.13.1)\n",
      "Requirement already satisfied: huggingface-hub<1.0,>=0.14.1 in /data/litao/miniconda3/envs/chatglm3/lib/python3.10/site-packages (from transformers==4.30.2) (0.18.0)\n",
      "Requirement already satisfied: numpy>=1.17 in /data/litao/miniconda3/envs/chatglm3/lib/python3.10/site-packages (from transformers==4.30.2) (1.26.1)\n",
      "Requirement already satisfied: packaging>=20.0 in /data/litao/miniconda3/envs/chatglm3/lib/python3.10/site-packages (from transformers==4.30.2) (23.2)\n",
      "Requirement already satisfied: pyyaml>=5.1 in /data/litao/miniconda3/envs/chatglm3/lib/python3.10/site-packages (from transformers==4.30.2) (6.0.1)\n",
      "Requirement already satisfied: regex!=2019.12.17 in /data/litao/miniconda3/envs/chatglm3/lib/python3.10/site-packages (from transformers==4.30.2) (2023.10.3)\n",
      "Requirement already satisfied: requests in /data/litao/miniconda3/envs/chatglm3/lib/python3.10/site-packages (from transformers==4.30.2) (2.31.0)\n",
      "Requirement already satisfied: tokenizers!=0.11.3,<0.14,>=0.11.1 in /data/litao/miniconda3/envs/chatglm3/lib/python3.10/site-packages (from transformers==4.30.2) (0.13.3)\n",
      "Requirement already satisfied: safetensors>=0.3.1 in /data/litao/miniconda3/envs/chatglm3/lib/python3.10/site-packages (from transformers==4.30.2) (0.4.0)\n",
      "Requirement already satisfied: tqdm>=4.27 in /data/litao/miniconda3/envs/chatglm3/lib/python3.10/site-packages (from transformers==4.30.2) (4.66.1)\n",
      "Requirement already satisfied: fsspec>=2023.5.0 in /data/litao/miniconda3/envs/chatglm3/lib/python3.10/site-packages (from huggingface-hub<1.0,>=0.14.1->transformers==4.30.2) (2023.10.0)\n",
      "Requirement already satisfied: typing-extensions>=3.7.4.3 in /data/litao/miniconda3/envs/chatglm3/lib/python3.10/site-packages (from huggingface-hub<1.0,>=0.14.1->transformers==4.30.2) (4.4.0)\n",
      "Requirement already satisfied: charset-normalizer<4,>=2 in /data/litao/miniconda3/envs/chatglm3/lib/python3.10/site-packages (from requests->transformers==4.30.2) (3.3.2)\n",
      "Requirement already satisfied: idna<4,>=2.5 in /data/litao/miniconda3/envs/chatglm3/lib/python3.10/site-packages (from requests->transformers==4.30.2) (3.4)\n",
      "Requirement already satisfied: urllib3<3,>=1.21.1 in /data/litao/miniconda3/envs/chatglm3/lib/python3.10/site-packages (from requests->transformers==4.30.2) (2.0.7)\n",
      "Requirement already satisfied: certifi>=2017.4.17 in /data/litao/miniconda3/envs/chatglm3/lib/python3.10/site-packages (from requests->transformers==4.30.2) (2023.7.22)\n"
     ]
    }
   ],
   "source": [
    "!pip install transformers==4.30.2"
   ]
  },
  {
   "cell_type": "markdown",
   "id": "85c836ca-4701-45b5-b024-7468cd65f7bb",
   "metadata": {
    "tags": []
   },
   "source": [
    "然后需要下载`chatglm3`模型到本地\n",
    "```shell\n",
    "git lfs install\n",
    "git clone https://www.modelscope.cn/ZhipuAI/chatglm3-6b.git\n",
    "```\n",
    "我这里的下载后的路径为`/data/litao/workspace/chatglm3/chatglm3-6b`"
   ]
  },
  {
   "cell_type": "code",
   "execution_count": 3,
   "id": "76d33f22-0259-4e8e-bc86-e4a0e7346e00",
   "metadata": {
    "tags": []
   },
   "outputs": [],
   "source": [
    "# 设置model_path\n",
    "model_path = \"/data/litao/workspace/chatglm3/chatglm3-6b\""
   ]
  },
  {
   "cell_type": "code",
   "execution_count": 6,
   "id": "0809d5f5-ccaf-4bf8-8d6e-b8e6655ba9a9",
   "metadata": {
    "tags": []
   },
   "outputs": [
    {
     "name": "stderr",
     "output_type": "stream",
     "text": [
      "Loading checkpoint shards: 100%|██████████| 7/7 [00:12<00:00,  1.77s/it]\n"
     ]
    }
   ],
   "source": [
    "from transformers import AutoModel, AutoTokenizer\n",
    "# 初始化模型\n",
    "tokenizer = AutoTokenizer.from_pretrained(model_path, trust_remote_code=True)\n",
    "model = AutoModel.from_pretrained(model_path, trust_remote_code=True).cuda()"
   ]
  },
  {
   "cell_type": "code",
   "execution_count": 11,
   "id": "851404d2-2475-4442-945f-456dc8366fcf",
   "metadata": {
    "tags": []
   },
   "outputs": [
    {
     "name": "stdout",
     "output_type": "stream",
     "text": [
      "你好👋！我是人工智能助手 ChatGLM3-6B，很高兴见到你，欢迎问我任何问题。\n"
     ]
    }
   ],
   "source": [
    "# 第一次提问\n",
    "response, history = model.chat(tokenizer, \"你好\", history=[])\n",
    "print(response)"
   ]
  },
  {
   "cell_type": "code",
   "execution_count": 12,
   "id": "5866156c-dee6-4d5c-9a61-5f2d8c889ede",
   "metadata": {
    "tags": []
   },
   "outputs": [
    {
     "name": "stdout",
     "output_type": "stream",
     "text": [
      "晚上睡不着应该先尝试以下方法：\n",
      "\n",
      "1. 保持安静：尽量避免噪音和干扰，确保睡眠环境安静舒适。\n",
      "2. 放松身心：尝试深呼吸、冥想、瑜伽等方式来放松身心，缓解压力。\n",
      "3. 规律作息：每天尽量保持规律的作息时间，早睡早起，不要熬夜。\n",
      "4. 适当锻炼：白天进行适当的锻炼，有助于晚上更好地入睡。\n",
      "5. 避免刺激性食物：晚上避免摄入咖啡因、尼古丁等刺激性食物，以免影响睡眠。\n",
      "6. 规律上床睡觉时间：尽量每天都在同一时间上床睡觉，以培养良好的睡眠习惯。\n",
      "\n",
      "如果以上方法无效，你可以考虑寻求专业医生的帮助，以便更好地解决失眠问题。\n"
     ]
    }
   ],
   "source": [
    "# 接着提问\n",
    "response, history = model.chat(tokenizer, \"晚上睡不着应该怎么办\", history=history)\n",
    "print(response)"
   ]
  },
  {
   "cell_type": "code",
   "execution_count": 13,
   "id": "6b5aa05b-c1b2-4fb4-ae1d-4124511be36c",
   "metadata": {
    "tags": []
   },
   "outputs": [
    {
     "name": "stdout",
     "output_type": "stream",
     "text": [
      "快速排序是一种高效的排序算法，其基本思想是通过一趟排序将待排序的数据分割成独立的两部分，其中一部分的所有数据都比另一部分的所有数据要小，然后再按此方法对这两部分数据分别进行快速排序，整个排序过程可以递归进行，以此达到整个数据变成有序序列。\n",
      "\n",
      "以下是Python实现快速排序的代码：\n",
      "\n",
      "```python\n",
      "def quick_sort(arr):\n",
      "    if len(arr) <= 1:\n",
      "        return arr\n",
      "    pivot = arr[len(arr) // 2]\n",
      "    left = [x for x in arr if x < pivot]\n",
      "    middle = [x for x in arr if x == pivot]\n",
      "    right = [x for x in arr if x > pivot]\n",
      "    return quick_sort(left) + middle + quick_sort(right)\n",
      "\n",
      "arr = [3,6,8,10,1,2,1]\n",
      "print(quick_sort(arr))\n",
      "```\n",
      "\n",
      "该代码首先判断数组长度是否小于等于1，如果是，则直接返回数组，因为长度为1的数组本身就是有序的。否则，选取数组中间的元素作为pivot。然后将数组中所有小于pivot的元素放到左边，等于pivot的元素放到中间，大于pivot的元素放到右边。接着对左右两个数组分别进行递归调用，最终将排序后的左、中、右三个数组合并起来返回。\n"
     ]
    }
   ],
   "source": [
    "# 接着提问\n",
    "response, history = model.chat(tokenizer, \"写一个快速排序的Python代码\", history=history)\n",
    "print(response)"
   ]
  },
  {
   "cell_type": "code",
   "execution_count": 14,
   "id": "7eb13547-0654-4af0-b736-c1aa67a169ed",
   "metadata": {
    "tags": []
   },
   "outputs": [
    {
     "name": "stdout",
     "output_type": "stream",
     "text": [
      "[1, 1, 2, 3, 6, 8, 10]\n"
     ]
    }
   ],
   "source": [
    "def quick_sort(arr):\n",
    "    if len(arr) <= 1:\n",
    "        return arr\n",
    "    pivot = arr[len(arr) // 2]\n",
    "    left = [x for x in arr if x < pivot]\n",
    "    middle = [x for x in arr if x == pivot]\n",
    "    right = [x for x in arr if x > pivot]\n",
    "    return quick_sort(left) + middle + quick_sort(right)\n",
    "\n",
    "arr = [3,6,8,10,1,2,1]\n",
    "print(quick_sort(arr))"
   ]
  },
  {
   "cell_type": "code",
   "execution_count": null,
   "id": "be6946fa-3b6e-43ad-b45b-bc04eeb74e15",
   "metadata": {},
   "outputs": [],
   "source": []
  }
 ],
 "metadata": {
  "kernelspec": {
   "display_name": "Python [conda env:miniconda3-chatglm3]",
   "language": "python",
   "name": "conda-env-miniconda3-chatglm3-py"
  },
  "language_info": {
   "codemirror_mode": {
    "name": "ipython",
    "version": 3
   },
   "file_extension": ".py",
   "mimetype": "text/x-python",
   "name": "python",
   "nbconvert_exporter": "python",
   "pygments_lexer": "ipython3",
   "version": "3.10.13"
  }
 },
 "nbformat": 4,
 "nbformat_minor": 5
}
