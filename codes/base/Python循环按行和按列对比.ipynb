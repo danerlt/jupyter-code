{
 "cells": [
  {
   "cell_type": "code",
   "execution_count": 1,
   "id": "4237ee20-4804-494a-83bb-bd710afd9616",
   "metadata": {
    "tags": []
   },
   "outputs": [],
   "source": [
    "import pandas as pd"
   ]
  },
  {
   "cell_type": "code",
   "execution_count": 2,
   "id": "a0019e25-b858-48e4-9ded-86309821903a",
   "metadata": {
    "tags": []
   },
   "outputs": [],
   "source": [
    "s1 = pd.Series(['a', 'b'])"
   ]
  },
  {
   "cell_type": "code",
   "execution_count": 3,
   "id": "c5dc6a20-fa14-408d-ba95-d4778b9bf2f6",
   "metadata": {
    "tags": []
   },
   "outputs": [],
   "source": [
    "s2 = None"
   ]
  },
  {
   "cell_type": "code",
   "execution_count": 4,
   "id": "e18da1d0-120f-4938-ba64-dcdd52b93a94",
   "metadata": {
    "tags": []
   },
   "outputs": [
    {
     "data": {
      "text/plain": [
       "0    a\n",
       "1    b\n",
       "dtype: object"
      ]
     },
     "execution_count": 4,
     "metadata": {},
     "output_type": "execute_result"
    }
   ],
   "source": [
    "s1"
   ]
  },
  {
   "cell_type": "code",
   "execution_count": 6,
   "id": "6c04ca40-60f1-44ae-9702-8f438f7762d3",
   "metadata": {
    "tags": []
   },
   "outputs": [
    {
     "data": {
      "text/plain": [
       "0    a\n",
       "1    b\n",
       "dtype: object"
      ]
     },
     "execution_count": 6,
     "metadata": {},
     "output_type": "execute_result"
    }
   ],
   "source": [
    "pd.concat([s1, s2])"
   ]
  },
  {
   "cell_type": "code",
   "execution_count": null,
   "id": "a0c7dc16-044d-4ce5-939f-8c65fa1bdc2e",
   "metadata": {},
   "outputs": [],
   "source": [
    "print"
   ]
  },
  {
   "cell_type": "code",
   "execution_count": 5,
   "id": "183e9d6d-c2ef-470c-8040-f0dcee0c953b",
   "metadata": {
    "execution": {
     "iopub.execute_input": "2023-11-28T09:57:00.450976Z",
     "iopub.status.busy": "2023-11-28T09:57:00.450334Z",
     "iopub.status.idle": "2023-11-28T09:57:31.846263Z",
     "shell.execute_reply": "2023-11-28T09:57:31.844700Z",
     "shell.execute_reply.started": "2023-11-28T09:57:00.450920Z"
    }
   },
   "outputs": [
    {
     "name": "stdout",
     "output_type": "stream",
     "text": [
      "cost time: 7.272901296615601\n",
      "cost time: 13.829144954681396\n"
     ]
    }
   ],
   "source": [
    "import time\n",
    "\n",
    "num = 10240\n",
    "arr = [[0 for _ in range(num)] for _ in range(num)]\n",
    "\n",
    "def foo(num=1024):\n",
    "    start_time = time.time()\n",
    "    for i in range(num):\n",
    "        for j in range(num):\n",
    "            arr[i][j] = num\n",
    "    end_time = time.time()\n",
    "    print(f\"cost time: {end_time - start_time}\")\n",
    "\n",
    "\n",
    "arr = [[0 for _ in range(num)] for _ in range(num)]\n",
    "def bar(num=1024):\n",
    "    start_time = time.time()\n",
    "    for i in range(num):\n",
    "        for j in range(num):\n",
    "            arr[j][i] = num\n",
    "    end_time = time.time()\n",
    "    print(f\"cost time: {end_time - start_time}\")\n",
    "\n",
    "foo(num)\n",
    "bar(num)"
   ]
  },
  {
   "cell_type": "code",
   "execution_count": 10,
   "id": "c858486e-fdbd-4b72-847a-8dcdf5c470ed",
   "metadata": {
    "execution": {
     "iopub.execute_input": "2023-11-28T09:59:57.026671Z",
     "iopub.status.busy": "2023-11-28T09:59:57.026137Z",
     "iopub.status.idle": "2023-11-28T10:00:54.361540Z",
     "shell.execute_reply": "2023-11-28T10:00:54.360260Z",
     "shell.execute_reply.started": "2023-11-28T09:59:57.026633Z"
    }
   },
   "outputs": [
    {
     "name": "stdout",
     "output_type": "stream",
     "text": [
      "cost time: 24.199955701828003\n",
      "cost time: 32.99455785751343\n"
     ]
    }
   ],
   "source": [
    "import time\n",
    "import numpy as np\n",
    "\n",
    "num = 10240\n",
    "arr = np.zeros((num, num))\n",
    "\n",
    "def foo(num=1024):\n",
    "    start_time = time.time()\n",
    "    for i in range(num):\n",
    "        for j in range(num):\n",
    "            arr[i][j] = num\n",
    "    end_time = time.time()\n",
    "    print(f\"cost time: {end_time - start_time}\")\n",
    "\n",
    "arr = np.zeros((num, num))\n",
    "def bar(num=1024):\n",
    "    start_time = time.time()\n",
    "    for i in range(num):\n",
    "        for j in range(num):\n",
    "            arr[j][i] = num\n",
    "    end_time = time.time()\n",
    "    print(f\"cost time: {end_time - start_time}\")\n",
    "\n",
    "foo(num)\n",
    "bar(num)"
   ]
  },
  {
   "cell_type": "code",
   "execution_count": null,
   "id": "50b0e48b-4233-4282-a195-90f882ea1da8",
   "metadata": {},
   "outputs": [],
   "source": []
  }
 ],
 "metadata": {
  "kernelspec": {
   "display_name": "Python [conda env:miniconda3-py37]",
   "language": "python",
   "name": "conda-env-miniconda3-py37-py"
  },
  "language_info": {
   "codemirror_mode": {
    "name": "ipython",
    "version": 3
   },
   "file_extension": ".py",
   "mimetype": "text/x-python",
   "name": "python",
   "nbconvert_exporter": "python",
   "pygments_lexer": "ipython3",
   "version": "3.7.12"
  }
 },
 "nbformat": 4,
 "nbformat_minor": 5
}
