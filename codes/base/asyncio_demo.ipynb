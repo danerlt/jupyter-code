{
 "cells": [
  {
   "cell_type": "code",
   "execution_count": 6,
   "id": "903c6889-dd06-4c36-88d6-cb9dd0be007e",
   "metadata": {
    "tags": []
   },
   "outputs": [
    {
     "name": "stdout",
     "output_type": "stream",
     "text": [
      "  1           0 RETURN_GENERATOR\n",
      "              2 POP_TOP\n",
      "              4 RESUME                   0\n",
      "\n",
      "  2           6 LOAD_CONST               1 (1)\n",
      "              8 RETURN_VALUE\n"
     ]
    }
   ],
   "source": [
    "async def asynchronous():\n",
    "    return 1\n",
    "\n",
    "async def await_function():  # await挂起自身函数，等待另外协程函数运行完毕\n",
    "    result = await asynchronous()\n",
    "    return result\n",
    "\n",
    "def run(async_function):  # 用try解决报错问题，运行协程函数\n",
    "    try:\n",
    "        async_function().send(None)\n",
    "    except StopIteration as r:\n",
    "        return r.value\n",
    "\n",
    "\n",
    "import dis\n",
    "\n",
    "dis.dis(asynchronous)"
   ]
  },
  {
   "cell_type": "code",
   "execution_count": 7,
   "id": "1db26fef-45b2-4935-8c55-eb29f3934279",
   "metadata": {
    "tags": []
   },
   "outputs": [
    {
     "name": "stdout",
     "output_type": "stream",
     "text": [
      "  4           0 RETURN_GENERATOR\n",
      "              2 POP_TOP\n",
      "              4 RESUME                   0\n",
      "\n",
      "  5           6 LOAD_GLOBAL              1 (NULL + asynchronous)\n",
      "             18 PRECALL                  0\n",
      "             22 CALL                     0\n",
      "             32 GET_AWAITABLE            0\n",
      "             34 LOAD_CONST               0 (None)\n",
      "        >>   36 SEND                     3 (to 44)\n",
      "             38 YIELD_VALUE\n",
      "             40 RESUME                   3\n",
      "             42 JUMP_BACKWARD_NO_INTERRUPT     4 (to 36)\n",
      "        >>   44 STORE_FAST               0 (result)\n",
      "\n",
      "  6          46 LOAD_FAST                0 (result)\n",
      "             48 RETURN_VALUE\n"
     ]
    }
   ],
   "source": [
    "import dis\n",
    "\n",
    "dis.dis(await_function)"
   ]
  },
  {
   "cell_type": "code",
   "execution_count": 15,
   "id": "9cdcfb34-5d20-4588-a4c3-80ab2e8d0c7f",
   "metadata": {
    "tags": []
   },
   "outputs": [
    {
     "name": "stdout",
     "output_type": "stream",
     "text": [
      "<generator object test at 0x7f2bc21dfd00>\n",
      "<class 'generator'>\n",
      "  1           0 RETURN_GENERATOR\n",
      "              2 POP_TOP\n",
      "              4 RESUME                   0\n",
      "\n",
      "  2           6 LOAD_CONST               1 (1)\n",
      "              8 GET_YIELD_FROM_ITER\n",
      "             10 LOAD_CONST               0 (None)\n",
      "        >>   12 SEND                     3 (to 20)\n",
      "             14 YIELD_VALUE\n",
      "             16 RESUME                   2\n",
      "             18 JUMP_BACKWARD_NO_INTERRUPT     4 (to 12)\n",
      "        >>   20 POP_TOP\n",
      "             22 LOAD_CONST               0 (None)\n",
      "             24 RETURN_VALUE\n"
     ]
    }
   ],
   "source": [
    "def test():\n",
    "    yield from 1\n",
    "    \n",
    "    \n",
    "a = test()\n",
    "print(a)\n",
    "print(type(a))\n",
    "dis.dis(test)"
   ]
  },
  {
   "cell_type": "code",
   "execution_count": 14,
   "id": "0498c3ad-21c6-4c63-be30-dc3aba4a6f92",
   "metadata": {
    "tags": []
   },
   "outputs": [
    {
     "name": "stdout",
     "output_type": "stream",
     "text": [
      "<coroutine object test2 at 0x7f2bc21dec80>\n",
      "<class 'coroutine'>\n",
      "  1           0 RETURN_GENERATOR\n",
      "              2 POP_TOP\n",
      "              4 RESUME                   0\n",
      "\n",
      "  2           6 LOAD_CONST               1 (1)\n",
      "              8 GET_AWAITABLE            0\n",
      "             10 LOAD_CONST               0 (None)\n",
      "        >>   12 SEND                     3 (to 20)\n",
      "             14 YIELD_VALUE\n",
      "             16 RESUME                   3\n",
      "             18 JUMP_BACKWARD_NO_INTERRUPT     4 (to 12)\n",
      "        >>   20 POP_TOP\n",
      "             22 LOAD_CONST               0 (None)\n",
      "             24 RETURN_VALUE\n"
     ]
    },
    {
     "name": "stderr",
     "output_type": "stream",
     "text": [
      "/tmp/ipykernel_8572/4166878052.py:4: RuntimeWarning: coroutine 'test2' was never awaited\n",
      "  b = test2()\n",
      "RuntimeWarning: Enable tracemalloc to get the object allocation traceback\n"
     ]
    }
   ],
   "source": [
    "async def test2():\n",
    "    await 1\n",
    "\n",
    "b = test2()\n",
    "print(b)\n",
    "print(type(b))\n",
    "dis.dis(test2)"
   ]
  },
  {
   "cell_type": "code",
   "execution_count": 16,
   "id": "80fe8144-2fd5-4ca4-9ea5-fa78a8210f25",
   "metadata": {
    "tags": []
   },
   "outputs": [
    {
     "name": "stdout",
     "output_type": "stream",
     "text": [
      "[1, 1, 2, 3, 6, 8, 10]\n"
     ]
    }
   ],
   "source": [
    "def quick_sort(arr):\n",
    "    if len(arr) <= 1:\n",
    "        return arr\n",
    "    pivot = arr[len(arr) // 2]\n",
    "    left = [x for x in arr if x < pivot]\n",
    "    middle = [x for x in arr if x == pivot]\n",
    "    right = [x for x in arr if x > pivot]\n",
    "    return quick_sort(left) + middle + quick_sort(right)\n",
    "\n",
    "arr = [3,6,8,10,1,2,1]\n",
    "print(quick_sort(arr))\n",
    "\n"
   ]
  },
  {
   "cell_type": "code",
   "execution_count": 17,
   "id": "c4ba0dfa-d748-49bc-b0a9-58503c3ca424",
   "metadata": {
    "tags": []
   },
   "outputs": [
    {
     "name": "stdout",
     "output_type": "stream",
     "text": [
      "              0 MAKE_CELL                4 (pivot)\n",
      "\n",
      "  1           2 RESUME                   0\n",
      "\n",
      "  2           4 LOAD_GLOBAL              1 (NULL + len)\n",
      "             16 LOAD_FAST                0 (arr)\n",
      "             18 PRECALL                  1\n",
      "             22 CALL                     1\n",
      "             32 LOAD_CONST               1 (1)\n",
      "             34 COMPARE_OP               1 (<=)\n",
      "             40 POP_JUMP_FORWARD_IF_FALSE     2 (to 46)\n",
      "\n",
      "  3          42 LOAD_FAST                0 (arr)\n",
      "             44 RETURN_VALUE\n",
      "\n",
      "  4     >>   46 LOAD_FAST                0 (arr)\n",
      "             48 LOAD_GLOBAL              1 (NULL + len)\n",
      "             60 LOAD_FAST                0 (arr)\n",
      "             62 PRECALL                  1\n",
      "             66 CALL                     1\n",
      "             76 LOAD_CONST               2 (2)\n",
      "             78 BINARY_OP                2 (//)\n",
      "             82 BINARY_SUBSCR\n",
      "             92 STORE_DEREF              4 (pivot)\n",
      "\n",
      "  5          94 LOAD_CLOSURE             4 (pivot)\n",
      "             96 BUILD_TUPLE              1\n",
      "             98 LOAD_CONST               3 (<code object <listcomp> at 0x7f2bd838ecd0, file \"/tmp/ipykernel_8572/996529307.py\", line 5>)\n",
      "            100 MAKE_FUNCTION            8 (closure)\n",
      "            102 LOAD_FAST                0 (arr)\n",
      "            104 GET_ITER\n",
      "            106 PRECALL                  0\n",
      "            110 CALL                     0\n",
      "            120 STORE_FAST               1 (left)\n",
      "\n",
      "  6         122 LOAD_CLOSURE             4 (pivot)\n",
      "            124 BUILD_TUPLE              1\n",
      "            126 LOAD_CONST               4 (<code object <listcomp> at 0x7f2bc1cdef70, file \"/tmp/ipykernel_8572/996529307.py\", line 6>)\n",
      "            128 MAKE_FUNCTION            8 (closure)\n",
      "            130 LOAD_FAST                0 (arr)\n",
      "            132 GET_ITER\n",
      "            134 PRECALL                  0\n",
      "            138 CALL                     0\n",
      "            148 STORE_FAST               2 (middle)\n",
      "\n",
      "  7         150 LOAD_CLOSURE             4 (pivot)\n",
      "            152 BUILD_TUPLE              1\n",
      "            154 LOAD_CONST               5 (<code object <listcomp> at 0x7f2bc1cdf130, file \"/tmp/ipykernel_8572/996529307.py\", line 7>)\n",
      "            156 MAKE_FUNCTION            8 (closure)\n",
      "            158 LOAD_FAST                0 (arr)\n",
      "            160 GET_ITER\n",
      "            162 PRECALL                  0\n",
      "            166 CALL                     0\n",
      "            176 STORE_FAST               3 (right)\n",
      "\n",
      "  8         178 LOAD_GLOBAL              3 (NULL + quick_sort)\n",
      "            190 LOAD_FAST                1 (left)\n",
      "            192 PRECALL                  1\n",
      "            196 CALL                     1\n",
      "            206 LOAD_FAST                2 (middle)\n",
      "            208 BINARY_OP                0 (+)\n",
      "            212 LOAD_GLOBAL              3 (NULL + quick_sort)\n",
      "            224 LOAD_FAST                3 (right)\n",
      "            226 PRECALL                  1\n",
      "            230 CALL                     1\n",
      "            240 BINARY_OP                0 (+)\n",
      "            244 RETURN_VALUE\n",
      "\n",
      "Disassembly of <code object <listcomp> at 0x7f2bd838ecd0, file \"/tmp/ipykernel_8572/996529307.py\", line 5>:\n",
      "              0 COPY_FREE_VARS           1\n",
      "\n",
      "  5           2 RESUME                   0\n",
      "              4 BUILD_LIST               0\n",
      "              6 LOAD_FAST                0 (.0)\n",
      "        >>    8 FOR_ITER                10 (to 30)\n",
      "             10 STORE_FAST               1 (x)\n",
      "             12 LOAD_FAST                1 (x)\n",
      "             14 LOAD_DEREF               2 (pivot)\n",
      "             16 COMPARE_OP               0 (<)\n",
      "             22 POP_JUMP_BACKWARD_IF_FALSE     8 (to 8)\n",
      "             24 LOAD_FAST                1 (x)\n",
      "             26 LIST_APPEND              2\n",
      "             28 JUMP_BACKWARD           11 (to 8)\n",
      "        >>   30 RETURN_VALUE\n",
      "\n",
      "Disassembly of <code object <listcomp> at 0x7f2bc1cdef70, file \"/tmp/ipykernel_8572/996529307.py\", line 6>:\n",
      "              0 COPY_FREE_VARS           1\n",
      "\n",
      "  6           2 RESUME                   0\n",
      "              4 BUILD_LIST               0\n",
      "              6 LOAD_FAST                0 (.0)\n",
      "        >>    8 FOR_ITER                10 (to 30)\n",
      "             10 STORE_FAST               1 (x)\n",
      "             12 LOAD_FAST                1 (x)\n",
      "             14 LOAD_DEREF               2 (pivot)\n",
      "             16 COMPARE_OP               2 (==)\n",
      "             22 POP_JUMP_BACKWARD_IF_FALSE     8 (to 8)\n",
      "             24 LOAD_FAST                1 (x)\n",
      "             26 LIST_APPEND              2\n",
      "             28 JUMP_BACKWARD           11 (to 8)\n",
      "        >>   30 RETURN_VALUE\n",
      "\n",
      "Disassembly of <code object <listcomp> at 0x7f2bc1cdf130, file \"/tmp/ipykernel_8572/996529307.py\", line 7>:\n",
      "              0 COPY_FREE_VARS           1\n",
      "\n",
      "  7           2 RESUME                   0\n",
      "              4 BUILD_LIST               0\n",
      "              6 LOAD_FAST                0 (.0)\n",
      "        >>    8 FOR_ITER                10 (to 30)\n",
      "             10 STORE_FAST               1 (x)\n",
      "             12 LOAD_FAST                1 (x)\n",
      "             14 LOAD_DEREF               2 (pivot)\n",
      "             16 COMPARE_OP               4 (>)\n",
      "             22 POP_JUMP_BACKWARD_IF_FALSE     8 (to 8)\n",
      "             24 LOAD_FAST                1 (x)\n",
      "             26 LIST_APPEND              2\n",
      "             28 JUMP_BACKWARD           11 (to 8)\n",
      "        >>   30 RETURN_VALUE\n"
     ]
    }
   ],
   "source": [
    "dis.dis(quick_sort)"
   ]
  },
  {
   "cell_type": "code",
   "execution_count": 18,
   "id": "f6597de0-2133-4d6a-8bf9-fb1386946297",
   "metadata": {
    "tags": []
   },
   "outputs": [
    {
     "ename": "AttributeError",
     "evalue": "'function' object has no attribute 'tb_frame'",
     "output_type": "error",
     "traceback": [
      "\u001b[0;31m---------------------------------------------------------------------------\u001b[0m",
      "\u001b[0;31mAttributeError\u001b[0m                            Traceback (most recent call last)",
      "Cell \u001b[0;32mIn[18], line 1\u001b[0m\n\u001b[0;32m----> 1\u001b[0m \u001b[43mdis\u001b[49m\u001b[38;5;241;43m.\u001b[39;49m\u001b[43mdistb\u001b[49m\u001b[43m(\u001b[49m\u001b[43mquick_sort\u001b[49m\u001b[43m)\u001b[49m\n",
      "File \u001b[0;32m~/miniconda3/envs/py311/lib/python3.11/dis.py:121\u001b[0m, in \u001b[0;36mdistb\u001b[0;34m(tb, file, show_caches, adaptive)\u001b[0m\n\u001b[1;32m    119\u001b[0m         \u001b[38;5;28;01mraise\u001b[39;00m \u001b[38;5;167;01mRuntimeError\u001b[39;00m(\u001b[38;5;124m\"\u001b[39m\u001b[38;5;124mno last traceback to disassemble\u001b[39m\u001b[38;5;124m\"\u001b[39m) \u001b[38;5;28;01mfrom\u001b[39;00m \u001b[38;5;28;01mNone\u001b[39;00m\n\u001b[1;32m    120\u001b[0m     \u001b[38;5;28;01mwhile\u001b[39;00m tb\u001b[38;5;241m.\u001b[39mtb_next: tb \u001b[38;5;241m=\u001b[39m tb\u001b[38;5;241m.\u001b[39mtb_next\n\u001b[0;32m--> 121\u001b[0m disassemble(\u001b[43mtb\u001b[49m\u001b[38;5;241;43m.\u001b[39;49m\u001b[43mtb_frame\u001b[49m\u001b[38;5;241m.\u001b[39mf_code, tb\u001b[38;5;241m.\u001b[39mtb_lasti, file\u001b[38;5;241m=\u001b[39mfile, show_caches\u001b[38;5;241m=\u001b[39mshow_caches, adaptive\u001b[38;5;241m=\u001b[39madaptive)\n",
      "\u001b[0;31mAttributeError\u001b[0m: 'function' object has no attribute 'tb_frame'"
     ]
    }
   ],
   "source": [
    "dis.distb(quick_sort)"
   ]
  },
  {
   "cell_type": "code",
   "execution_count": null,
   "id": "a1e3257a-3db2-48cc-9135-0e22aa5ecceb",
   "metadata": {},
   "outputs": [],
   "source": []
  }
 ],
 "metadata": {
  "kernelspec": {
   "display_name": "Python [conda env:miniconda3-py311]",
   "language": "python",
   "name": "conda-env-miniconda3-py311-py"
  },
  "language_info": {
   "codemirror_mode": {
    "name": "ipython",
    "version": 3
   },
   "file_extension": ".py",
   "mimetype": "text/x-python",
   "name": "python",
   "nbconvert_exporter": "python",
   "pygments_lexer": "ipython3",
   "version": "3.11.4"
  }
 },
 "nbformat": 4,
 "nbformat_minor": 5
}
