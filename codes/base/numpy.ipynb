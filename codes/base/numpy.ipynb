{
 "cells": [
  {
   "cell_type": "markdown",
   "id": "7e184539-cf96-4a92-bb61-10ee2c130aa8",
   "metadata": {},
   "source": [
    "# 理解 NumPy\n",
    "在这篇文章中，我们将介绍使用NumPy的基础知识，NumPy是一个功能强大的Python库，允许更高级的数据操作和数学计算。\n",
    "\n",
    "## 什么是 NumPy?\n",
    "NumPy是一个功能强大的Python库，主要用于对多维数组执行计算。NumPy这个词来源于两个单词-- Numerical和Python。NumPy提供了大量的库函数和操作，可以帮助程序员轻松地进行数值计算。这类数值计算广泛用于以下任务：\n",
    "\n",
    "- 机器学习模型：在编写机器学习算法时，需要对矩阵进行各种数值计算。例如矩阵乘法、换位、加法等。NumPy提供了一个非常好的库，用于简单(在编写代码方面)和快速(在速度方面)计算。NumPy数组用于存储训练数据和机器学习模型的参数。\n",
    "\n",
    "- 图像处理和计算机图形学：计算机中的图像表示为多维数字数组。NumPy成为同样情况下最自然的选择。实际上，NumPy提供了一些优秀的库函数来快速处理图像。例如，镜像图像、按特定角度旋转图像等。\n",
    "\n",
    "- 数学任务：NumPy对于执行各种数学任务非常有用，如数值积分、微分、内插、外推等。因此，当涉及到数学任务时，它形成了一种基于Python的MATLAB的快速替代。\n",
    "\n",
    "## NumPy 的安装\n",
    "\n",
    "在你的计算机上安装NumPy的最快也是最简单的方法是在shell上使用以下命令：`pip install numpy`。\n",
    "\n",
    "这将在你的计算机上安装最新/最稳定的NumPy版本。通过PIP安装是安装任何Python软件包的最简单方法。现在让我们来谈谈NumPy中最重要的概念，NumPy数组。\n",
    "\n",
    "## NumPy 中的数组\n",
    "\n",
    "NumPy提供的最重要的数据结构是一个称为NumPy数组的强大对象。NumPy数组是通常的Python数组的扩展。NumPy数组配备了大量的函数和运算符，可以帮助我们快速编写上面讨论过的各种类型计算的高性能代码。让我们看看如何快速定义一维NumPy数组："
   ]
  },
  {
   "cell_type": "code",
   "execution_count": 3,
   "id": "6c59a9e3-a752-490a-b4a1-7f2571cbf7b2",
   "metadata": {
    "tags": []
   },
   "outputs": [
    {
     "name": "stdout",
     "output_type": "stream",
     "text": [
      "Looking in indexes: http://10.113.75.134:3141/admin/pypi/+simple/\n",
      "Requirement already satisfied: numpy in ./miniconda3/envs/py311/lib/python3.11/site-packages (1.26.0)\n"
     ]
    }
   ],
   "source": [
    "# 安装numpy\n",
    "!pip install numpy"
   ]
  },
  {
   "cell_type": "code",
   "execution_count": 4,
   "id": "aafa6bfc-b639-4ee9-9d52-e054d2e29525",
   "metadata": {
    "tags": []
   },
   "outputs": [
    {
     "name": "stdout",
     "output_type": "stream",
     "text": [
      "[1 2 3 4 5]\n"
     ]
    }
   ],
   "source": [
    "import numpy as np \n",
    "my_array = np.array([1, 2, 3, 4, 5]) \n",
    "print(my_array)"
   ]
  },
  {
   "cell_type": "markdown",
   "id": "0cb407cb-bb02-4931-8999-e2a4896ded85",
   "metadata": {},
   "source": [
    "在上面的简单示例中，我们首先使用import numpy作为np导入NumPy库。然后，我们创建了一个包含5个整数的简单NumPy数组，然后我们将其打印出来。继续在自己的机器上试一试。在看 “NumPy安装” 部分下面的步骤的时候，请确保已在计算机中安装了NumPy。\n",
    "\n",
    "现在让我们看看我们可以用这个特定的NumPy数组能做些什么。\n"
   ]
  },
  {
   "cell_type": "code",
   "execution_count": 5,
   "id": "1498b9a4-d340-4d05-86d0-070c69d19950",
   "metadata": {
    "tags": []
   },
   "outputs": [
    {
     "name": "stdout",
     "output_type": "stream",
     "text": [
      "(5,)\n"
     ]
    }
   ],
   "source": [
    "print(my_array.shape)"
   ]
  },
  {
   "cell_type": "markdown",
   "id": "bba22aec-b44f-46ac-bf5b-9f8296600550",
   "metadata": {},
   "source": [
    "它会打印我们创建的数组的形状：(5, )。意思就是 my_array 是一个包含5个元素的数组。\n",
    "\n",
    "我们也可以打印各个元素。就像普通的Python数组一样，NumPy数组的起始索引编号为0。"
   ]
  },
  {
   "cell_type": "code",
   "execution_count": 6,
   "id": "97eb596e-6cf5-4906-83ee-7e5ad1f54c25",
   "metadata": {
    "tags": []
   },
   "outputs": [
    {
     "name": "stdout",
     "output_type": "stream",
     "text": [
      "1\n",
      "2\n"
     ]
    }
   ],
   "source": [
    "print(my_array[0])\n",
    "print(my_array[1])"
   ]
  },
  {
   "cell_type": "markdown",
   "id": "62f003ba-482b-438a-8fcc-f7c47c3ed70c",
   "metadata": {},
   "source": [
    "上述命令将分别在终端上打印1和2。我们还可以修改NumPy数组的元素。例如，假设我们编写以下2个命令："
   ]
  },
  {
   "cell_type": "code",
   "execution_count": 7,
   "id": "641b29f5-2b61-4be2-b954-6626a18c73f5",
   "metadata": {
    "tags": []
   },
   "outputs": [
    {
     "name": "stdout",
     "output_type": "stream",
     "text": [
      "[-1  2  3  4  5]\n"
     ]
    }
   ],
   "source": [
    "my_array[0] = -1\n",
    "print(my_array)"
   ]
  },
  {
   "cell_type": "markdown",
   "id": "ec009f1c-0729-4360-8c8e-b51a1ab79c77",
   "metadata": {},
   "source": [
    "我们将在屏幕上看到：`[-1,2,3,4,5]`。"
   ]
  },
  {
   "cell_type": "markdown",
   "id": "4f09acbe-eeee-47d1-88b1-33bf6d7b2496",
   "metadata": {
    "tags": []
   },
   "source": [
    "现在假设，我们要创建一个长度为5的NumPy数组，但所有元素都为0，NumPy提供了一种简单的方法来做同样的事情。"
   ]
  },
  {
   "cell_type": "code",
   "execution_count": 10,
   "id": "f1a632cb-c876-4dc1-90d1-2882660da53e",
   "metadata": {
    "tags": []
   },
   "outputs": [
    {
     "name": "stdout",
     "output_type": "stream",
     "text": [
      "[0. 0. 0. 0. 0.]\n"
     ]
    }
   ],
   "source": [
    "my_new_array = np.zeros((5))\n",
    "print(my_new_array)"
   ]
  },
  {
   "cell_type": "markdown",
   "id": "26dcf724-423c-4f17-be98-7cf0bbb802f5",
   "metadata": {},
   "source": [
    "我们将看到输出了 `[0., 0., 0., 0., 0.]` 。与 `np.zeros` 类似，我们也有 `np.ones` 。 如果我们想创建一个随机值数组怎么办？"
   ]
  },
  {
   "cell_type": "code",
   "execution_count": 12,
   "id": "1adf6849-402d-4067-954a-9cd0a99fe7eb",
   "metadata": {
    "tags": []
   },
   "outputs": [
    {
     "name": "stdout",
     "output_type": "stream",
     "text": [
      "[1. 1. 1. 1. 1.]\n",
      "[0.73950607 0.43415381 0.69348953 0.29900099 0.86383158]\n"
     ]
    }
   ],
   "source": [
    "my_ones = np.ones((5))\n",
    "my_random = np.random.random((5))\n",
    "print(my_ones)\n",
    "print(my_random)"
   ]
  },
  {
   "cell_type": "markdown",
   "id": "6afe03e9-8118-4f08-92cc-58efda3b5ba2",
   "metadata": {
    "tags": []
   },
   "source": [
    "我们得到的输出看起来像 `[0.73950607 0.43415381 0.69348953 0.29900099 0.86383158]` 这样的数据。你获得的输出可能会有所不同，因为我们使用的是随机函数，它为每个元素分配0到1之间的随机值。"
   ]
  },
  {
   "cell_type": "markdown",
   "id": "2d6a315e-64f7-426c-a325-d00e479764f5",
   "metadata": {},
   "source": [
    "现在让我们看看如何使用NumPy创建二维数组。"
   ]
  },
  {
   "cell_type": "code",
   "execution_count": 18,
   "id": "5ae9f8db-f1e8-4cd8-9094-7013cbf74376",
   "metadata": {
    "tags": []
   },
   "outputs": [
    {
     "name": "stdout",
     "output_type": "stream",
     "text": [
      "[[0. 0. 0.]\n",
      " [0. 0. 0.]]\n",
      "[[1. 1. 1. 1.]\n",
      " [1. 1. 1. 1.]]\n"
     ]
    }
   ],
   "source": [
    "my_2d_array = np.zeros((2, 3))\n",
    "print(my_2d_array)\n",
    "my_2d_new_array = np.ones((2,4))\n",
    "print(my_2d_new_array)"
   ]
  },
  {
   "cell_type": "markdown",
   "id": "16aefe0c-4e6e-4263-b23f-6b943412a2d8",
   "metadata": {},
   "source": [
    "基本上，当你使用函数np.zeros()或np.ones()时，你可以指定讨论数组大小的元组。\n",
    "\n",
    "在上面的两个例子中，我们使用以下元组，(2, 3) 和(2, 4) 分别表示2行，3列和4列。\n",
    "\n",
    "像上面那样的多维数组可以用 `my_array[i][j]` 符号来索引，其中 `i` 表示行号，`j` 表示列号。`i` 和 `j` 都从 `0` 开始。"
   ]
  },
  {
   "cell_type": "code",
   "execution_count": 19,
   "id": "0c95991a-5360-46cd-a415-c153782b21a6",
   "metadata": {
    "tags": []
   },
   "outputs": [
    {
     "name": "stdout",
     "output_type": "stream",
     "text": [
      "5\n"
     ]
    }
   ],
   "source": [
    "my_array = np.array([[4,5],[6,1]])\n",
    "print(my_array[0][1])"
   ]
  },
  {
   "cell_type": "markdown",
   "id": "34d6f69b-9cf6-4aff-bf4e-3a13b525edae",
   "metadata": {},
   "source": [
    "上面的代码片段的输出是5，因为它是索引0行和索引1列中的元素。\n",
    "\n",
    "你还可以按如下方式打印my_array的形状："
   ]
  },
  {
   "cell_type": "code",
   "execution_count": 20,
   "id": "8db71121-a58b-4c60-b064-d7a63178cf51",
   "metadata": {
    "tags": []
   },
   "outputs": [
    {
     "name": "stdout",
     "output_type": "stream",
     "text": [
      "(2, 2)\n"
     ]
    }
   ],
   "source": [
    "print(my_array.shape)"
   ]
  },
  {
   "cell_type": "markdown",
   "id": "19290299-5073-4806-85f4-3a819148cf24",
   "metadata": {},
   "source": [
    "输出为(2, 2)，表示数组中有2行2列。"
   ]
  },
  {
   "cell_type": "markdown",
   "id": "3948e3ee-cbfd-46fb-9456-5304e968382c",
   "metadata": {},
   "source": [
    "NumPy提供了一种提取多维数组的行/列的强大方法。例如，考虑我们上面定义的 `my_array` 的例子。"
   ]
  },
  {
   "cell_type": "markdown",
   "id": "c901570c-330b-4a74-84f1-0d5ca074c4a4",
   "metadata": {},
   "source": [
    "假设，我们想从中提取第二列（索引1）的所有元素。在这里，我们肉眼可以看出，第二列由两个元素组成：`5` 和 `1` 。为此，我们可以执行以下操作："
   ]
  },
  {
   "cell_type": "code",
   "execution_count": 21,
   "id": "d72e2584-2465-499d-9767-2c4968e27d35",
   "metadata": {
    "tags": []
   },
   "outputs": [
    {
     "name": "stdout",
     "output_type": "stream",
     "text": [
      "[5 1]\n"
     ]
    }
   ],
   "source": [
    "my_array_column_2 = my_array[:, 1]\n",
    "print(my_array_column_2)"
   ]
  },
  {
   "cell_type": "markdown",
   "id": "fd4cd3e9-c3b5-426a-9d71-9ba667c1ddae",
   "metadata": {},
   "source": [
    "注意，我们使用了冒号(`:`)而不是行号，而对于列号，我们使用了值`1`，最终输出是：`[5, 1]`。"
   ]
  },
  {
   "cell_type": "code",
   "execution_count": 25,
   "id": "1bc12e3b-8974-4b2c-8773-20e5d61b6553",
   "metadata": {
    "tags": []
   },
   "outputs": [
    {
     "data": {
      "text/plain": [
       "210"
      ]
     },
     "execution_count": 25,
     "metadata": {},
     "output_type": "execute_result"
    }
   ],
   "source": []
  },
  {
   "cell_type": "code",
   "execution_count": null,
   "id": "63cbf22b-6ac1-4813-ae99-4d54dbeeaf09",
   "metadata": {},
   "outputs": [],
   "source": [
    "\n"
   ]
  }
 ],
 "metadata": {
  "kernelspec": {
   "display_name": "Python [conda env:miniconda3-py311]",
   "language": "python",
   "name": "conda-env-miniconda3-py311-py"
  },
  "language_info": {
   "codemirror_mode": {
    "name": "ipython",
    "version": 3
   },
   "file_extension": ".py",
   "mimetype": "text/x-python",
   "name": "python",
   "nbconvert_exporter": "python",
   "pygments_lexer": "ipython3",
   "version": "3.11.4"
  }
 },
 "nbformat": 4,
 "nbformat_minor": 5
}
