{
 "cells": [
  {
   "cell_type": "markdown",
   "id": "3a0db9c0-6f98-4814-b2a1-15e6a316da99",
   "metadata": {},
   "source": [
    "在C++中,函数的参数传递主要有两种方式:\n",
    "\n",
    "1. 值传递(pass by value)\n",
    "\n",
    "这是C++的默认参数传递机制。调用函数时会将实参的值复制一份给形参,函数内部对形参的修改不会改变外部实参。\n",
    "\n",
    "例如:\n",
    "\n",
    "```cpp\n",
    "void func(int a) {\n",
    "  a++;\n",
    "}\n",
    "\n",
    "int main() {\n",
    "  int x = 10;\n",
    "  func(x);\n",
    "  // x仍等于10,未改变\n",
    "}\n",
    "```\n",
    "\n",
    "2. 引用传递(pass by reference)\n",
    "\n",
    "可以通过在函数声明和定义中参数前加上&实现。这时内外都引用同一块内存,函数内的修改会影响到外部实参。\n",
    "\n",
    "例如:\n",
    "\n",
    "```cpp\n",
    "void func(int &a) {\n",
    "  a++;  \n",
    "}\n",
    "\n",
    "int main() {\n",
    "  int x = 10;\n",
    "  func(x);\n",
    "  // x变为11\n",
    "}\n",
    "```\n",
    "\n",
    "下面是`C++`值传递的一个示例：\n",
    "```cpp\n",
    "#include <iostream>\n",
    "\n",
    "using namespace std;\n",
    "\n",
    "void add(int n) {\n",
    "  cout << \"start add, n: \" << n << \", address: \" << &n << endl; \n",
    "  n = n + 1;\n",
    "  cout << \"end add, n: \" << n << \", address: \" << &n << endl;\n",
    "}\n",
    "\n",
    "void foo() {\n",
    "  int n = 9001;\n",
    "  cout << \"foo before add, n: \" << n << \", address: \" << &n << endl;\n",
    "  \n",
    "  add(n);\n",
    "\n",
    "  cout << \"foo after add, n: \" << n << \", address: \" << &n << endl;  \n",
    "}\n",
    "\n",
    "int main() {\n",
    "  foo();\n",
    "\n",
    "  return 0;\n",
    "}\n",
    "\n",
    "```\n",
    "执行的结果为：\n",
    "```\n",
    "foo before add, n: 9001, address: 0x7fffff25014c\n",
    "start add, n: 9001, address: 0x7fffff25012c\n",
    "end add, n: 9002, address: 0x7fffff25012c\n",
    "foo after add, n: 9001, address: 0x7fffff25014c\n",
    "```\n",
    "\n",
    "可以看出在函数传递的时候，形参和实参的地址不一样。\n",
    "\n",
    "下面是一个`Python`参数传递的示例：\n",
    "```python\n",
    "def foo():\n",
    "    n = 9001\n",
    "    print(f\"foo before add, n: {n}, id(n): {id(n)}\")\n",
    "    add(n)\n",
    "    print(f\"foo after add, n: {n}, id(n): {id(n)}\")\n",
    "\n",
    "def add(n):\n",
    "    print(f\"start add, n: {n}, id(n): {id(n)}\")\n",
    "    n = n + 1\n",
    "    print(f\"end add, n: {n}, id(n): {id(n)}\")\n",
    "\n",
    "foo()\n",
    "```\n",
    "\n",
    "执行结果为：\n",
    "```\n",
    "foo before add, n: 9001, id(n): 140609093743280\n",
    "start add, n: 9001, id(n): 140609093743280\n",
    "end add, n: 9002, id(n): 140609093742320\n",
    "foo after add, n: 9001, id(n): 140609093743280\n",
    "```\n",
    "\n",
    "可以看出，函数参数传递的时候，形参和实参的地址是一样的，说明Python不是值传递。\n",
    "\n",
    "\n"
   ]
  },
  {
   "cell_type": "markdown",
   "id": "662afbf0-9722-4336-aed9-a6fb09c0bc0e",
   "metadata": {},
   "source": []
  },
  {
   "cell_type": "markdown",
   "id": "add04da8-a648-486b-abf0-cb0dfdf9d422",
   "metadata": {},
   "source": []
  },
  {
   "cell_type": "code",
   "execution_count": 8,
   "id": "46cb4e9c-596e-427f-aaac-4167a935f458",
   "metadata": {
    "tags": []
   },
   "outputs": [
    {
     "name": "stdout",
     "output_type": "stream",
     "text": [
      "foo before add, n: 9001, id(n): 140609093743280\n",
      "start add, n: 9001, id(n): 140609093743280\n",
      "end add, n: 9002, id(n): 140609093742320\n",
      "foo after add, n: 9001, id(n): 140609093743280\n"
     ]
    }
   ],
   "source": [
    "def foo():\n",
    "    n = 9001\n",
    "    print(f\"foo before add, n: {n}, id(n): {id(n)}\")\n",
    "    add(n)\n",
    "    print(f\"foo after add, n: {n}, id(n): {id(n)}\")\n",
    "\n",
    "def add(n):\n",
    "    print(f\"start add, n: {n}, id(n): {id(n)}\")\n",
    "    n = n + 1\n",
    "    print(f\"end add, n: {n}, id(n): {id(n)}\")\n",
    "\n",
    "foo()"
   ]
  },
  {
   "cell_type": "code",
   "execution_count": null,
   "id": "8d98e5f4-002a-45d8-9fb0-967f75f54c94",
   "metadata": {},
   "outputs": [],
   "source": []
  },
  {
   "cell_type": "code",
   "execution_count": 9,
   "id": "dd66a2ff-0518-45c6-b847-0fd2080d733a",
   "metadata": {
    "tags": []
   },
   "outputs": [
    {
     "name": "stdout",
     "output_type": "stream",
     "text": [
      "bar before append, arr: [1, 2, 3], id(arr): 140609044388096\n",
      "start append, arr: [1, 2, 3], id(arr): 140609044388096\n",
      "end append, arr: [1, 2, 3, 4], id(arr): 140609044388096\n",
      "bar after append, arr: [1, 2, 3, 4], id(arr): 140609044388096\n"
     ]
    }
   ],
   "source": [
    "def bar():\n",
    "    arr = [1,2,3]\n",
    "    print(f\"bar before append, arr: {arr}, id(arr): {id(arr)}\")\n",
    "    append(arr)\n",
    "    print(f\"bar after append, arr: {arr}, id(arr): {id(arr)}\")\n",
    "\n",
    "def append(arr):\n",
    "    print(f\"start append, arr: {arr}, id(arr): {id(arr)}\")\n",
    "    arr.append(4)\n",
    "    print(f\"end append, arr: {arr}, id(arr): {id(arr)}\")\n",
    "\n",
    "bar()"
   ]
  },
  {
   "cell_type": "code",
   "execution_count": 10,
   "id": "16dde994-9893-422a-9690-7657e07495c9",
   "metadata": {
    "tags": []
   },
   "outputs": [
    {
     "name": "stdout",
     "output_type": "stream",
     "text": [
      "bar2 before append2, arr: [1, 2, 3], id(arr): 140609044388736\n",
      "start append2, arr: [1, 2, 3], id(arr): 140609044388736\n",
      "end append2, arr: [1, 2, 3, 4], id(arr): 140609044387136\n",
      "bar2 after append2, arr: [1, 2, 3], id(arr): 140609044388736\n"
     ]
    }
   ],
   "source": [
    "def bar2():\n",
    "    arr = [1,2,3]\n",
    "    print(f\"bar2 before append2, arr: {arr}, id(arr): {id(arr)}\")\n",
    "    append2(arr)\n",
    "    print(f\"bar2 after append2, arr: {arr}, id(arr): {id(arr)}\")\n",
    "\n",
    "def append2(arr):\n",
    "    print(f\"start append2, arr: {arr}, id(arr): {id(arr)}\")\n",
    "    arr = [1,2,3,4]\n",
    "    print(f\"end append2, arr: {arr}, id(arr): {id(arr)}\")\n",
    "\n",
    "bar2()"
   ]
  },
  {
   "cell_type": "code",
   "execution_count": null,
   "id": "bee3a4a8-c260-4ddc-b360-e1e317eeb58c",
   "metadata": {},
   "outputs": [],
   "source": []
  }
 ],
 "metadata": {
  "kernelspec": {
   "display_name": "Python [conda env:miniconda3-py311]",
   "language": "python",
   "name": "conda-env-miniconda3-py311-py"
  },
  "language_info": {
   "codemirror_mode": {
    "name": "ipython",
    "version": 3
   },
   "file_extension": ".py",
   "mimetype": "text/x-python",
   "name": "python",
   "nbconvert_exporter": "python",
   "pygments_lexer": "ipython3",
   "version": "3.11.4"
  }
 },
 "nbformat": 4,
 "nbformat_minor": 5
}
