{
 "cells": [
  {
   "cell_type": "markdown",
   "id": "db47f72f-5dcd-401f-9bce-b8622e5fad97",
   "metadata": {},
   "source": [
    "## 海象运算符"
   ]
  },
  {
   "cell_type": "code",
   "execution_count": 1,
   "id": "7dae2caa-50f1-414e-bc0c-6d05d61f9ff7",
   "metadata": {
    "tags": []
   },
   "outputs": [
    {
     "name": "stdout",
     "output_type": "stream",
     "text": [
      "wtf_python\n"
     ]
    }
   ],
   "source": [
    "a = \"wtf_python\"\n",
    "print(a)"
   ]
  },
  {
   "cell_type": "code",
   "execution_count": 2,
   "id": "5d2a695e-2d73-4f9f-bd8b-1386a12b4c78",
   "metadata": {
    "tags": []
   },
   "outputs": [
    {
     "ename": "SyntaxError",
     "evalue": "invalid syntax (3498900548.py, line 1)",
     "output_type": "error",
     "traceback": [
      "\u001b[0;36m  Cell \u001b[0;32mIn[2], line 1\u001b[0;36m\u001b[0m\n\u001b[0;31m    a := \"wtf_python\"\u001b[0m\n\u001b[0m      ^\u001b[0m\n\u001b[0;31mSyntaxError\u001b[0m\u001b[0;31m:\u001b[0m invalid syntax\n"
     ]
    }
   ],
   "source": [
    "a := \"wtf_python\"\n",
    "print(a)"
   ]
  },
  {
   "cell_type": "code",
   "execution_count": 3,
   "id": "e1223702-ded1-4d4e-a5fc-1123c0e5ffe3",
   "metadata": {
    "tags": []
   },
   "outputs": [
    {
     "name": "stdout",
     "output_type": "stream",
     "text": [
      "wtf_python\n",
      "<class 'str'>\n"
     ]
    }
   ],
   "source": [
    "( b := \"wtf_python\")\n",
    "print(b)\n",
    "print(type(b))"
   ]
  },
  {
   "cell_type": "code",
   "execution_count": 4,
   "id": "e113afe3-8847-43c1-b565-148cf68e11ce",
   "metadata": {
    "tags": []
   },
   "outputs": [
    {
     "name": "stdout",
     "output_type": "stream",
     "text": [
      "(6, 9)\n",
      "<class 'tuple'>\n"
     ]
    }
   ],
   "source": [
    "a = 6, 9\n",
    "print(a)\n",
    "print(type(a))"
   ]
  },
  {
   "cell_type": "code",
   "execution_count": 5,
   "id": "7f31d458-50bd-4052-a010-f4267c2fc625",
   "metadata": {
    "tags": []
   },
   "outputs": [
    {
     "name": "stdout",
     "output_type": "stream",
     "text": [
      "6 9\n"
     ]
    }
   ],
   "source": [
    "a, b = 6, 9\n",
    "print(a, b)"
   ]
  },
  {
   "cell_type": "code",
   "execution_count": 6,
   "id": "3119a97e-ac26-40ff-bb8d-504e72f3db45",
   "metadata": {
    "tags": []
   },
   "outputs": [
    {
     "name": "stdout",
     "output_type": "stream",
     "text": [
      "16 19\n"
     ]
    }
   ],
   "source": [
    "(a, b) = 16, 19\n",
    "print(a, b)"
   ]
  },
  {
   "cell_type": "code",
   "execution_count": 7,
   "id": "6b213858-4378-4492-a7f7-7cd70ef4ee6f",
   "metadata": {
    "tags": []
   },
   "outputs": [
    {
     "ename": "SyntaxError",
     "evalue": "invalid syntax. Maybe you meant '==' or ':=' instead of '='? (1392913385.py, line 1)",
     "output_type": "error",
     "traceback": [
      "\u001b[0;36m  Cell \u001b[0;32mIn[7], line 1\u001b[0;36m\u001b[0m\n\u001b[0;31m    (a,b = 16, 19)\u001b[0m\n\u001b[0m       ^\u001b[0m\n\u001b[0;31mSyntaxError\u001b[0m\u001b[0;31m:\u001b[0m invalid syntax. Maybe you meant '==' or ':=' instead of '='?\n"
     ]
    }
   ],
   "source": [
    "(a,b = 16, 19)"
   ]
  },
  {
   "cell_type": "code",
   "execution_count": 8,
   "id": "1f0acb9f-955e-4638-b30c-e3d3c596dd0d",
   "metadata": {
    "tags": []
   },
   "outputs": [
    {
     "name": "stdout",
     "output_type": "stream",
     "text": [
      "(16, 26, 29)\n",
      "<class 'tuple'>\n",
      "16 26\n"
     ]
    }
   ],
   "source": [
    "res = (a, b := 26, 29)\n",
    "print(res)\n",
    "print(type(res))\n",
    "print(a, b)"
   ]
  },
  {
   "cell_type": "code",
   "execution_count": 9,
   "id": "35ed0d81-9585-43b0-a0e2-901ccd99e52f",
   "metadata": {
    "tags": []
   },
   "outputs": [
    {
     "name": "stdout",
     "output_type": "stream",
     "text": [
      "(6, 9)\n",
      "6\n",
      "True\n",
      "(696, 9)\n",
      "696\n",
      "True\n"
     ]
    }
   ],
   "source": [
    "res = (a:= 6,9)\n",
    "print(res)\n",
    "print(a)\n",
    "res = (a := 6, 9) == ((a := 6), 9)\n",
    "print(res)\n",
    "# (a := 6, 9) 等价于 ((a := 6), 9) ，最终得到 (a, 9)  (其中 a 的值为6)\n",
    "x = (a := 696, 9)\n",
    "print(x)\n",
    "print(x[0])\n",
    "print(x[0] is a)"
   ]
  },
  {
   "cell_type": "code",
   "execution_count": 10,
   "id": "e646ba6e-4aa6-45ad-9bce-289fc59ab406",
   "metadata": {
    "tags": []
   },
   "outputs": [
    {
     "name": "stdout",
     "output_type": "stream",
     "text": [
      "1000 16 (1000, 16, 19)\n",
      "True\n"
     ]
    }
   ],
   "source": [
    "a = 1000\n",
    "res = (a, b := 16, 19)\n",
    "print(a, b, res)\n",
    "\n",
    "flag = (a, b := 16, 19) == ((a, (b := 16), 19))\n",
    "print(flag)"
   ]
  },
  {
   "cell_type": "markdown",
   "id": "1694da15-7248-49b3-b07c-bc8a8a58c25f",
   "metadata": {},
   "source": [
    "总结\n",
    "\n",
    "- 在顶层的无括号赋值操作（使用“海象”运算符）被限制，此例1中的 `a := \"wtf_walrus\"` 出现了 `SyntaxError` 。用括号括起来。它就能正常工作了。\n",
    "- 一般的，包含 `=` 操作的表达式是不能用括号括起来的，因此 `(a, b = 6, 9)` 中出现了语法错误。\n",
    "- “海象”运算符的语法形式为：`NAME:= expr` ，`NAME` 是一个有效的标识符，而 `expr` 是一个有效的表达式。 因此，这意味着它不支持可迭代的打包和拆包。\n",
    "   - `(a := 6, 9)` 等价于 `((a := 6), 9)` ，最终得到 `(a, 9)`  (其中 `a` 的值为6)\n",
    "   - 类似的， `(a, b := 16, 19)` 等价于 `(a, (b := 16), 19)` ，只是一个三元组。 "
   ]
  },
  {
   "cell_type": "markdown",
   "id": "47e482a9-ce41-4513-a218-1a40cee1d0d2",
   "metadata": {
    "tags": []
   },
   "source": [
    "## 字符串"
   ]
  },
  {
   "cell_type": "code",
   "execution_count": 116,
   "id": "0a6bb02a-b7f8-4943-8ec8-4b458660a22d",
   "metadata": {
    "tags": []
   },
   "outputs": [
    {
     "name": "stdout",
     "output_type": "stream",
     "text": [
      "140531937057968\n",
      "140531937057968\n",
      "True\n",
      "True\n"
     ]
    }
   ],
   "source": [
    "a = \"some_string\"\n",
    "print(id(a))\n",
    "b = \"some\" + \"_\" + \"string\"\n",
    "print(id(b))\n",
    "print(id(a) == id(b))\n",
    "print(a is b )"
   ]
  },
  {
   "cell_type": "code",
   "execution_count": 118,
   "id": "45832ab5-780e-4343-b4b1-d7006415eb24",
   "metadata": {
    "tags": []
   },
   "outputs": [
    {
     "name": "stdout",
     "output_type": "stream",
     "text": [
      "True\n",
      "False\n",
      "True\n"
     ]
    }
   ],
   "source": [
    "a = \"wtf\"\n",
    "b = \"wtf\"\n",
    "print(a is b)\n",
    "\n",
    "a = \"wtf!\"\n",
    "b = \"wtf!\"\n",
    "print(a is b)\n",
    "\n",
    "a, b = \"wtf!\", \"wtf!\"\n",
    "print(a is b)"
   ]
  },
  {
   "cell_type": "code",
   "execution_count": 119,
   "id": "99588fcc-5b0d-4125-ab89-8f9cf502f0e0",
   "metadata": {
    "tags": []
   },
   "outputs": [
    {
     "name": "stdout",
     "output_type": "stream",
     "text": [
      "aaaaaaaaaaaaaaaaaaaa\n",
      "140531676709072\n",
      "140531676709072\n",
      "True\n"
     ]
    }
   ],
   "source": [
    "b = 'a' * 20\n",
    "print(b)\n",
    "c = \"aaaaaaaaaaaaaaaaaaaa\"\n",
    "print(id(b))\n",
    "print(id(c))\n",
    "print(b is c)"
   ]
  },
  {
   "cell_type": "code",
   "execution_count": 14,
   "id": "aaf23ef4-5401-4605-8c44-87b40b59756c",
   "metadata": {
    "tags": []
   },
   "outputs": [
    {
     "name": "stdout",
     "output_type": "stream",
     "text": [
      "140531937116208\n",
      "140531937116208\n",
      "True\n"
     ]
    }
   ],
   "source": [
    "b = 'a' * 100\n",
    "c = \"a\" * 99 + \"a\"\n",
    "print(id(b))\n",
    "print(id(c))\n",
    "print(b is c)"
   ]
  },
  {
   "cell_type": "code",
   "execution_count": 15,
   "id": "429f20db-bc3a-40de-99e4-3efed8c4d8fb",
   "metadata": {
    "tags": []
   },
   "outputs": [
    {
     "name": "stdout",
     "output_type": "stream",
     "text": [
      "aaaaaaaaaaaaaaaaaaaaaaaaaaaaaaaaaaaaaaaaaaaaaaaaaaaaaaaaaaaaaaaaaaaaaaaaaaaaaaaaaaaaaaaaaaaaaaaaaaaa 140531937116368\n",
      "aaaaaaaaaaaaaaaaaaaaaaaaaaaaaaaaaaaaaaaaaaaaaaaaaaaaaaaaaaaaaaaaaaaaaaaaaaaaaaaaaaaaaaaaaaaaaaaaaaaa 140531937116528\n",
      "False\n"
     ]
    }
   ],
   "source": [
    "def compare(length=2):\n",
    "    b = 'a' * length\n",
    "    c = 'a' * (length -1) + \"a\"\n",
    "    print(b, id(b))\n",
    "    print(c, id(c))\n",
    "    res = b is c\n",
    "    return res\n",
    "\n",
    "print(compare(length=100))"
   ]
  },
  {
   "cell_type": "code",
   "execution_count": 122,
   "id": "781395a4-c4ce-47fa-acb4-0b389a657a49",
   "metadata": {
    "tags": []
   },
   "outputs": [
    {
     "name": "stdout",
     "output_type": "stream",
     "text": [
      "94681785734640\n",
      "94681785749680\n",
      "b == c: True\n",
      "b is c: False\n",
      "False\n"
     ]
    }
   ],
   "source": [
    "def comp():\n",
    "    b = 'a' * 4097\n",
    "    print(id(b))\n",
    "    c = \"a\" * 4096 + \"a\"\n",
    "    print(id(c))\n",
    "    print(f\"b == c: { b == c }\")\n",
    "    print(f\"b is c: { b is c }\")\n",
    "    return b is c\n",
    "print(comp())"
   ]
  },
  {
   "cell_type": "code",
   "execution_count": 17,
   "id": "405e453c-5d69-4161-80e0-bfeb5a4ac393",
   "metadata": {
    "tags": []
   },
   "outputs": [
    {
     "name": "stdout",
     "output_type": "stream",
     "text": [
      "  1           0 RESUME                   0\n",
      "\n",
      "  2           2 LOAD_CONST               1 ('a')\n",
      "              4 LOAD_FAST                0 (length)\n",
      "              6 BINARY_OP                5 (*)\n",
      "             10 STORE_FAST               1 (b)\n",
      "\n",
      "  3          12 LOAD_CONST               1 ('a')\n",
      "             14 LOAD_FAST                0 (length)\n",
      "             16 LOAD_CONST               2 (1)\n",
      "             18 BINARY_OP               10 (-)\n",
      "             22 BINARY_OP                5 (*)\n",
      "             26 LOAD_CONST               1 ('a')\n",
      "             28 BINARY_OP                0 (+)\n",
      "             32 STORE_FAST               2 (c)\n",
      "\n",
      "  4          34 LOAD_GLOBAL              1 (NULL + print)\n",
      "             46 LOAD_FAST                1 (b)\n",
      "             48 LOAD_GLOBAL              3 (NULL + id)\n",
      "             60 LOAD_FAST                1 (b)\n",
      "             62 PRECALL                  1\n",
      "             66 CALL                     1\n",
      "             76 PRECALL                  2\n",
      "             80 CALL                     2\n",
      "             90 POP_TOP\n",
      "\n",
      "  5          92 LOAD_GLOBAL              1 (NULL + print)\n",
      "            104 LOAD_FAST                2 (c)\n",
      "            106 LOAD_GLOBAL              3 (NULL + id)\n",
      "            118 LOAD_FAST                2 (c)\n",
      "            120 PRECALL                  1\n",
      "            124 CALL                     1\n",
      "            134 PRECALL                  2\n",
      "            138 CALL                     2\n",
      "            148 POP_TOP\n",
      "\n",
      "  6         150 LOAD_FAST                1 (b)\n",
      "            152 LOAD_FAST                2 (c)\n",
      "            154 IS_OP                    0\n",
      "            156 STORE_FAST               3 (res)\n",
      "\n",
      "  7         158 LOAD_FAST                3 (res)\n",
      "            160 RETURN_VALUE\n"
     ]
    }
   ],
   "source": [
    "import dis\n",
    "\n",
    "dis.dis(compare)\n"
   ]
  },
  {
   "cell_type": "code",
   "execution_count": 18,
   "id": "b3425d7b-34c2-4f97-9076-29ca1116971f",
   "metadata": {
    "tags": []
   },
   "outputs": [
    {
     "name": "stdout",
     "output_type": "stream",
     "text": [
      "  1           0 RESUME                   0\n",
      "\n",
      "  2           2 LOAD_CONST               1 ('aaaaaaaaaaaaaaaaaaaaaaaaaaaaaaaaaaaaaaaaaaaaaaaaaaaaaaaaaaaaaaaaaaaaaaaaaaaaaaaaaaaaaaaaaaaaaaaaaaaa')\n",
      "              4 STORE_FAST               1 (b)\n",
      "\n",
      "  3           6 LOAD_GLOBAL              1 (NULL + print)\n",
      "             18 LOAD_FAST                1 (b)\n",
      "             20 LOAD_GLOBAL              3 (NULL + id)\n",
      "             32 LOAD_FAST                1 (b)\n",
      "             34 PRECALL                  1\n",
      "             38 CALL                     1\n",
      "             48 PRECALL                  2\n",
      "             52 CALL                     2\n",
      "             62 POP_TOP\n",
      "\n",
      "  4          64 LOAD_CONST               1 ('aaaaaaaaaaaaaaaaaaaaaaaaaaaaaaaaaaaaaaaaaaaaaaaaaaaaaaaaaaaaaaaaaaaaaaaaaaaaaaaaaaaaaaaaaaaaaaaaaaaa')\n",
      "             66 STORE_FAST               2 (c)\n",
      "\n",
      "  5          68 LOAD_GLOBAL              1 (NULL + print)\n",
      "             80 LOAD_FAST                2 (c)\n",
      "             82 LOAD_GLOBAL              3 (NULL + id)\n",
      "             94 LOAD_FAST                2 (c)\n",
      "             96 PRECALL                  1\n",
      "            100 CALL                     1\n",
      "            110 PRECALL                  2\n",
      "            114 CALL                     2\n",
      "            124 POP_TOP\n",
      "\n",
      "  6         126 LOAD_GLOBAL              1 (NULL + print)\n",
      "            138 LOAD_CONST               2 ('b == c: ')\n",
      "            140 LOAD_FAST                1 (b)\n",
      "            142 LOAD_FAST                2 (c)\n",
      "            144 COMPARE_OP               2 (==)\n",
      "            150 FORMAT_VALUE             0\n",
      "            152 BUILD_STRING             2\n",
      "            154 PRECALL                  1\n",
      "            158 CALL                     1\n",
      "            168 POP_TOP\n",
      "\n",
      "  7         170 LOAD_GLOBAL              1 (NULL + print)\n",
      "            182 LOAD_CONST               3 ('b is c: ')\n",
      "            184 LOAD_FAST                1 (b)\n",
      "            186 LOAD_FAST                2 (c)\n",
      "            188 IS_OP                    0\n",
      "            190 FORMAT_VALUE             0\n",
      "            192 BUILD_STRING             2\n",
      "            194 PRECALL                  1\n",
      "            198 CALL                     1\n",
      "            208 POP_TOP\n",
      "\n",
      "  8         210 LOAD_FAST                1 (b)\n",
      "            212 LOAD_FAST                2 (c)\n",
      "            214 IS_OP                    0\n",
      "            216 RETURN_VALUE\n"
     ]
    }
   ],
   "source": [
    "dis.dis(comp)"
   ]
  },
  {
   "cell_type": "code",
   "execution_count": 20,
   "id": "68b91903-d1e3-4a1e-84de-ed2f02b8769e",
   "metadata": {
    "tags": []
   },
   "outputs": [
    {
     "name": "stdout",
     "output_type": "stream",
     "text": [
      "id(a): 140531937059376, id(b): 140531937059376, a is b: True\n",
      "  0           0 RESUME                   0\n",
      "\n",
      "  1           2 LOAD_CONST               0 (('wtf!', 'wtf!'))\n",
      "              4 UNPACK_SEQUENCE          2\n",
      "              8 STORE_NAME               0 (a)\n",
      "             10 STORE_NAME               1 (b)\n",
      "             12 LOAD_CONST               1 (None)\n",
      "             14 RETURN_VALUE\n"
     ]
    }
   ],
   "source": [
    "a, b = \"wtf!\", \"wtf!\"\n",
    "print(f\"id(a): {id(a)}, id(b): {id(b)}, a is b: {a is b}\")\n",
    "dis.dis(\"a, b = 'wtf!', 'wtf!'\")"
   ]
  },
  {
   "cell_type": "code",
   "execution_count": 21,
   "id": "e0852cbe-589b-4a7e-bd3d-c4bc26e634cf",
   "metadata": {
    "tags": []
   },
   "outputs": [
    {
     "name": "stdout",
     "output_type": "stream",
     "text": [
      "id(a): 140531937066608\n",
      "id(b): 140531937066928\n",
      "a is b: False\n",
      "  0           0 RESUME                   0\n",
      "\n",
      "  1           2 LOAD_CONST               0 ('wtf!')\n",
      "              4 STORE_NAME               0 (a)\n",
      "\n",
      "  2           6 LOAD_CONST               0 ('wtf!')\n",
      "              8 STORE_NAME               1 (b)\n",
      "             10 LOAD_CONST               1 (None)\n",
      "             12 RETURN_VALUE\n"
     ]
    }
   ],
   "source": [
    "a = \"wtf!\"\n",
    "b = \"wtf!\"\n",
    "print(f\"id(a): {id(a)}\")\n",
    "print(f\"id(b): {id(b)}\")\n",
    "print(f\"a is b: {a is b}\")\n",
    "dis.dis(\"\"\"a = \"wtf!\"\n",
    "b = \"wtf!\\\"\"\"\")"
   ]
  },
  {
   "cell_type": "markdown",
   "id": "a8c4cad6-72f6-491c-a923-be0e021fe38d",
   "metadata": {},
   "source": [
    "总结：\n",
    "\n",
    "- 这些行为是由于 `Cpython` 在编译优化时, 某些情况下会尝试使用已经存在的不可变对象而不是每次都创建一个新对象. (这种行为被称作字符串的驻留[string interning])\n",
    "- 发生驻留之后, 许多变量可能指向内存中的相同字符串对象. (从而节省内存)\n",
    "- 在上面的代码中, 字符串是隐式驻留的. 何时发生隐式驻留则取决于具体的实现. 这里有一些方法可以用来猜测字符串是否会被驻留:\n",
    "    - 所有长度为 0 和长度为 1 的字符串都被驻留.\n",
    "    - 字符串在编译时被实现 (`'wtf'` 将被驻留, 但是 `''.join(['w', 't', 'f'])` 将不会被驻留)\n",
    "    - 字符串中只包含字母，数字或下划线时将会驻留. 所以 `'wtf!'` 由于包含 `!` 而未被驻留. 可以在[这里](https://github.com/python/cpython/blob/3.6/Objects/codeobject.c#L19)找到 CPython 对此规则的实现.\n",
    "- 当在同一行将 `a` 和 `b` 的值设置为 `\"wtf!\"` 的时候, `Python` 解释器会创建一个新对象, 然后同时引用第二个变量(译: 仅适用于3.7以下, 详细情况请看[这里](https://github.com/leisurelicht/wtfpython-cn/issues/13)). 如果你在不同的行上进行赋值操作, 它就不会“知道”已经有一个 `wtf!` 对象 (因为 `\"wtf!\"` 不是按照上面提到的方式被隐式驻留的). 它是一种编译器优化, 特别适用于交互式环境.    \n",
    "- 常量折叠(constant folding) 是 Python 中的一种 窥孔优化(peephole optimization) 技术. 这意味着在编译时表达式 'a'*20 会被替换为 'aaaaaaaaaaaaaaaaaaaa' 以减少运行时的时钟周期. 只有长度小于 20 的字符串才会发生常量折叠. (为啥? 想象一下由于表达式 `'a'*10**10` 而生成的 .pyc 文件的大小). 相关的源码实现在[这里](https://github.com/python/cpython/blob/3.6/Python/peephole.c#L288). 在python3.10开始就找不到这个了。可能是迁移到了AST优化器，参考资料： [bpo-29469](https://bugs.python.org/issue29469) 和 [bpo-11549](https://bugs.python.org/issue11549)\n",
    "\n"
   ]
  },
  {
   "cell_type": "markdown",
   "id": "903bd5f4-1d4a-4f4d-96fe-5df1311b4b47",
   "metadata": {
    "tags": []
   },
   "source": [
    "## 链式操作"
   ]
  },
  {
   "cell_type": "code",
   "execution_count": 29,
   "id": "fbb61a36-77e5-4408-8ce4-fa25999b378a",
   "metadata": {
    "tags": []
   },
   "outputs": [
    {
     "name": "stdout",
     "output_type": "stream",
     "text": [
      "True\n",
      "<class 'bool'>\n",
      "False\n",
      "  0           0 RESUME                   0\n",
      "\n",
      "  1           2 LOAD_CONST               0 (False)\n",
      "              4 LOAD_CONST               0 (False)\n",
      "              6 COMPARE_OP               2 (==)\n",
      "             12 LOAD_CONST               1 ((False,))\n",
      "             14 CONTAINS_OP              0\n",
      "             16 RETURN_VALUE\n"
     ]
    }
   ],
   "source": [
    "a = (False == False)\n",
    "print(a)\n",
    "print(type(a))\n",
    "res = (False == False) in [False]\n",
    "print(res)\n",
    "dis.dis(\"(False == False) in [False]\")"
   ]
  },
  {
   "cell_type": "code",
   "execution_count": 24,
   "id": "0cb13d18-ac1e-49f6-9581-37bd7fce89b2",
   "metadata": {
    "tags": []
   },
   "outputs": [
    {
     "name": "stdout",
     "output_type": "stream",
     "text": [
      "False\n",
      "  0           0 RESUME                   0\n",
      "\n",
      "  1           2 LOAD_CONST               0 (False)\n",
      "              4 LOAD_CONST               0 (False)\n",
      "              6 LOAD_CONST               1 ((False,))\n",
      "              8 CONTAINS_OP              0\n",
      "             10 COMPARE_OP               2 (==)\n",
      "             16 RETURN_VALUE\n"
     ]
    }
   ],
   "source": [
    "res = False == (False in [False])\n",
    "print(res)\n",
    "dis.dis(\"False == (False in [False])\")"
   ]
  },
  {
   "cell_type": "code",
   "execution_count": 27,
   "id": "f6a3e9a6-2a69-49bd-bd24-a30d0b58bd25",
   "metadata": {
    "tags": []
   },
   "outputs": [
    {
     "name": "stdout",
     "output_type": "stream",
     "text": [
      "True\n",
      "  0           0 RESUME                   0\n",
      "\n",
      "  1           2 LOAD_CONST               0 (False)\n",
      "              4 LOAD_CONST               0 (False)\n",
      "              6 SWAP                     2\n",
      "              8 COPY                     2\n",
      "             10 COMPARE_OP               2 (==)\n",
      "             16 JUMP_IF_FALSE_OR_POP     3 (to 24)\n",
      "             18 LOAD_CONST               1 ((False,))\n",
      "             20 CONTAINS_OP              0\n",
      "             22 RETURN_VALUE\n",
      "        >>   24 SWAP                     2\n",
      "             26 POP_TOP\n",
      "             28 RETURN_VALUE\n"
     ]
    }
   ],
   "source": [
    "res = False == False in [False] # 等价于 (False == False) and (False in [False])\n",
    "print(res)\n",
    "dis.dis(\"False == False in [False]\")"
   ]
  },
  {
   "cell_type": "markdown",
   "id": "66d8b251-16e4-4ffd-87b1-55b867f67714",
   "metadata": {},
   "source": [
    "说明：\n",
    "根据 [https://docs.python.org/3/reference/expressions.html#comparisons](https://docs.python.org/3/reference/expressions.html#comparisons)\n",
    "\n",
    "> 形式上, 如果 a, b, c, ..., y, z 是表达式, 而 op1, op2, ..., opN 是比较运算符, 那么除了每个表达式最多只出现一次以外 a op1 b op2 c ... y opN z 就等于 a op1 b and b op2 c and ... y opN z.\n",
    "\n",
    "例如 `a op1 b op2 c` 等价于 `a op1 b and b op2 c`， \n",
    "\n",
    "如 `False is False is False` 等价于 `(False is False) and (False and False)`\n",
    "如 `True is False == False` 等价于 `(True is False) and (False == False)` 因为Python的短路特性，第一部分为`False`所以结果为`False`。\n",
    "\n",
    "    \n"
   ]
  },
  {
   "cell_type": "markdown",
   "id": "c4721223-5235-42b2-9659-f0d1a6d40831",
   "metadata": {},
   "source": [
    "## is 操作符"
   ]
  },
  {
   "cell_type": "code",
   "execution_count": 41,
   "id": "556d14c4-99cf-4fdb-b568-e7a2b09000be",
   "metadata": {
    "tags": []
   },
   "outputs": [
    {
     "name": "stdout",
     "output_type": "stream",
     "text": [
      "True\n"
     ]
    }
   ],
   "source": [
    "a = 256\n",
    "b = 256\n",
    "print(a is b)"
   ]
  },
  {
   "cell_type": "code",
   "execution_count": 40,
   "id": "3e2c18ca-48a5-4663-a7fb-e42a972738de",
   "metadata": {
    "tags": []
   },
   "outputs": [
    {
     "name": "stdout",
     "output_type": "stream",
     "text": [
      "False\n"
     ]
    }
   ],
   "source": [
    "a = 257\n",
    "b = 257\n",
    "print(a is b)"
   ]
  },
  {
   "cell_type": "code",
   "execution_count": 42,
   "id": "85efb339-d9b9-4ee6-94ae-2255b90911f6",
   "metadata": {
    "tags": []
   },
   "outputs": [
    {
     "name": "stdout",
     "output_type": "stream",
     "text": [
      "False\n"
     ]
    }
   ],
   "source": [
    "a = -6\n",
    "b = -6\n",
    "print(a is b)"
   ]
  },
  {
   "cell_type": "code",
   "execution_count": 43,
   "id": "c7c4ae3b-9d78-4fef-a019-a517eb1c1d5f",
   "metadata": {
    "tags": []
   },
   "outputs": [
    {
     "name": "stdout",
     "output_type": "stream",
     "text": [
      "True\n"
     ]
    }
   ],
   "source": [
    "a = -5\n",
    "b = -5\n",
    "print(a is b)"
   ]
  },
  {
   "cell_type": "code",
   "execution_count": 44,
   "id": "36f3c712-cee7-47b8-a9e9-0ba515942b41",
   "metadata": {
    "tags": []
   },
   "outputs": [
    {
     "name": "stdout",
     "output_type": "stream",
     "text": [
      "False\n"
     ]
    }
   ],
   "source": [
    "a = []\n",
    "b = []\n",
    "print(a is b)"
   ]
  },
  {
   "cell_type": "code",
   "execution_count": 45,
   "id": "21a2621f-b4cb-4978-8408-3d35245faca5",
   "metadata": {
    "tags": []
   },
   "outputs": [
    {
     "name": "stdout",
     "output_type": "stream",
     "text": [
      "True\n"
     ]
    }
   ],
   "source": [
    "a = tuple()\n",
    "b = tuple()\n",
    "print(a is b)"
   ]
  },
  {
   "cell_type": "code",
   "execution_count": 46,
   "id": "fe4529fc-d4e1-4e6f-9b79-186e3c6d8990",
   "metadata": {
    "tags": []
   },
   "outputs": [
    {
     "name": "stdout",
     "output_type": "stream",
     "text": [
      "False\n"
     ]
    }
   ],
   "source": [
    "a = set()\n",
    "b = set()\n",
    "print(a is b)"
   ]
  },
  {
   "cell_type": "code",
   "execution_count": 47,
   "id": "60cb3efb-f8a3-4acc-a60c-da67ef536778",
   "metadata": {
    "tags": []
   },
   "outputs": [
    {
     "name": "stdout",
     "output_type": "stream",
     "text": [
      "False\n"
     ]
    }
   ],
   "source": [
    "a = dict()\n",
    "b = dict()\n",
    "print(a is b)"
   ]
  },
  {
   "cell_type": "code",
   "execution_count": 48,
   "id": "64ce67eb-6c5d-4b15-b90b-27de5a518428",
   "metadata": {
    "tags": []
   },
   "outputs": [
    {
     "name": "stdout",
     "output_type": "stream",
     "text": [
      "True\n"
     ]
    }
   ],
   "source": [
    "a, b = 257, 257\n",
    "print(a is b)"
   ]
  },
  {
   "cell_type": "code",
   "execution_count": 50,
   "id": "16366e7e-6f20-429a-ae66-5a0e07c60cdc",
   "metadata": {
    "tags": []
   },
   "outputs": [
    {
     "name": "stdout",
     "output_type": "stream",
     "text": [
      "True\n"
     ]
    }
   ],
   "source": [
    "a, b = 3.2, 3.2\n",
    "print(a is b)"
   ]
  },
  {
   "cell_type": "code",
   "execution_count": 51,
   "id": "be585384-f34b-49dc-b496-09817bb07cdf",
   "metadata": {
    "tags": []
   },
   "outputs": [
    {
     "name": "stdout",
     "output_type": "stream",
     "text": [
      "True\n"
     ]
    }
   ],
   "source": [
    "a, b = \"hello world!\", \"hello world!\"\n",
    "print(a is b)"
   ]
  },
  {
   "cell_type": "markdown",
   "id": "a58b3c3e-d978-49b5-9b82-d186c5d7ade2",
   "metadata": {},
   "source": [
    "说明\n",
    "\n",
    "**is和==的区别**\n",
    "\n",
    "- `is` 运算符检查两个运算对象是否引用自同一对象 (即, 它检查两个运算对象是否相同).\n",
    "- `==` 运算符比较两个运算对象的值是否相等.\n",
    "因此 `is` 代表引用相同, `==` 代表值相等. 下面的例子可以很好的说明这点,\n",
    "\n",
    "```python\n",
    ">>> [] == []\n",
    "True\n",
    ">>> [] is [] # 这两个空列表位于不同的内存地址.\n",
    "False\n",
    "```\n",
    "\n",
    "**小整数池**\n",
    "\n",
    "`256` 是一个已经存在的对象, 而 `257` 不是\n",
    "\n",
    "当你启动Python 的时候, 数值为 `-5` 到 `256` 的对象就已经被分配好了. 这些数字因为经常被使用, 所以会被提前准备好.\n",
    "\n",
    "Python 通过这种创建小整数池的方式来避免小整数频繁的申请和销毁内存空间.\n",
    "\n",
    "引用自 [https://docs.python.org/3/c-api/long.html](https://docs.python.org/3/c-api/long.html)\n",
    "\n",
    "\n",
    "> 当前的实现为-5到256之间的所有整数保留一个整数对象数组, 当你创建了一个该范围内的整数时, 你只需要返回现有对象的引用.\n",
    "\n",
    "**当 `a` 和 `b` 在同一行中使用相同的值初始化时，会指向同一个对象.**\n",
    "\n",
    "```python\n",
    ">>> a, b = 257, 257\n",
    ">>> id(a)\n",
    "140640774013296\n",
    ">>> id(b)\n",
    "140640774013296\n",
    ">>> a = 257\n",
    ">>> b = 257\n",
    ">>> id(a)\n",
    "140640774013392\n",
    ">>> id(b)\n",
    "140640774013488\n",
    "```\n",
    "\n",
    "- 当 `a` 和 `b` 在同一行中被设置为 `257` 时, Python 解释器会创建一个新对象, 然后同时引用第二个变量. 如果你在不同的行上进行, 它就不会 \"知道\" 已经存在一个 `257` 对象了.\n",
    "\n",
    "- 这是一种特别为交互式环境做的编译器优化. 当你在实时解释器中输入两行的时候, 他们会单独编译, 因此也会单独进行优化. 如果你在 `.py` 文件中尝试这个例子, 则不会看到相同的行为, 因为文件是一次性编译的。这种优化不仅限于整数，它也适用于其他不可变数据类型.\n"
   ]
  },
  {
   "cell_type": "markdown",
   "id": "cad2c081-d8cd-4bc3-b118-a82c6f2e3951",
   "metadata": {
    "tags": []
   },
   "source": [
    "## 哈希"
   ]
  },
  {
   "cell_type": "code",
   "execution_count": 60,
   "id": "74555bb3-7ee5-41b3-8ba1-cef4583ac430",
   "metadata": {
    "tags": []
   },
   "outputs": [
    {
     "name": "stdout",
     "output_type": "stream",
     "text": [
      "{5.5: 'aaa', 5.0: 'ccc'}\n",
      "aaa\n",
      "ccc\n",
      "ccc\n",
      "True\n",
      "True\n",
      "True\n",
      "True\n",
      "hash(5): 5, hash(5.0): 5, hash(5 + 0j): 5, is equal: True\n"
     ]
    }
   ],
   "source": [
    "d = {}\n",
    "d[5.5] = \"aaa\"\n",
    "d[5.0] = \"bbb\"\n",
    "d[5] = \"ccc\"\n",
    "print(d)\n",
    "print(d[5.5])\n",
    "print(d[5.0])\n",
    "print(d[5])\n",
    "\n",
    "res = (5 == 5.0 == 5 + 0j)\n",
    "print(res)\n",
    "print(5.0 in d)\n",
    "print(5 in d)\n",
    "print(5 + 0j in d)\n",
    "res = (hash(5) == hash(5.0) == hash(5 + 0j))\n",
    "print(f\"hash(5): {hash(5)}, hash(5.0): {hash(5.0)}, hash(5 + 0j): {hash(5 + 0j)}, is equal: {res}\")"
   ]
  },
  {
   "cell_type": "markdown",
   "id": "2a87d75f-04d5-49b0-bb63-797e3b864be2",
   "metadata": {},
   "source": [
    "说明\n",
    "\n",
    "- 这个 StackOverflow的 [回答](https://stackoverflow.com/questions/32209155/why-can-a-floating-point-dictionary-key-overwrite-an-integer-key-with-the-same-v/32211042#32211042) 漂亮地解释了这背后的基本原理.\n",
    "- Python 字典中键的唯一性是根据 等价性，而不是同一性。 因此，即使 5、5.0 和 5 + 0j 是不同类型的不同对象，由于它们是相等的，它们不能都在同一个 dict（或 set）中。 只要您插入其中任何一个，尝试查找任何不同但等价的键都将使用原始映射值成功（而不是因“KeyError”而失败。\n",
    "- 这在赋值的时候也会生效。\n",
    "- 那么我们如何将键值更新为5（而不是5.0）？ 我们实际上不能原地更新，但是我们可以先删除键（del d[5.0]），然后重新赋值（d[5]）得到整数5 作为键而不是浮点数 5.0，尽管这属于极少数情况。\n",
    "- Python 是如何在包含 5.0 的字典中找到 5 的？ Python 只需要花费常数时间，而无需使用哈希函数遍历每一项。当 Python 在 dict 中查找键 foo 时，它首先计算 hash(foo)（以常数时间运行）。因为在 Python 中，要求相等的对象具有相同的哈希值（此处为[文档](https://docs.python.org/3/reference/datamodel.html#object.__hash__)），`5` 、`5.0` 和 `5 + 0j` 具有相同的哈希值。\n",
    "\n",
    "**注意： 反之不一定正确：具有相等哈希值的对象本身可能不相等。**（这是[哈希冲突](https://en.wikipedia.org/wiki/Collision_(computer_science)）造成的，这也会降低哈希运算的性能。）"
   ]
  },
  {
   "cell_type": "markdown",
   "id": "e32ea3d3-8082-4764-b394-d310575f48a6",
   "metadata": {
    "tags": []
   },
   "source": [
    "## 对象相等"
   ]
  },
  {
   "cell_type": "code",
   "execution_count": 64,
   "id": "f8558fac-2d45-43a4-a328-50c86acc8627",
   "metadata": {
    "tags": []
   },
   "outputs": [
    {
     "name": "stdout",
     "output_type": "stream",
     "text": [
      "  0           0 RESUME                   0\n",
      "\n",
      "  2           2 PUSH_NULL\n",
      "              4 LOAD_BUILD_CLASS\n",
      "              6 LOAD_CONST               0 (<code object WTF at 0x7fd026c6af50, file \"<dis>\", line 2>)\n",
      "              8 MAKE_FUNCTION            0\n",
      "             10 LOAD_CONST               1 ('WTF')\n",
      "             12 PRECALL                  2\n",
      "             16 CALL                     2\n",
      "             26 STORE_NAME               0 (WTF)\n",
      "             28 LOAD_CONST               2 (None)\n",
      "             30 RETURN_VALUE\n",
      "\n",
      "Disassembly of <code object WTF at 0x7fd026c6af50, file \"<dis>\", line 2>:\n",
      "  2           0 RESUME                   0\n",
      "              2 LOAD_NAME                0 (__name__)\n",
      "              4 STORE_NAME               1 (__module__)\n",
      "              6 LOAD_CONST               0 ('WTF')\n",
      "              8 STORE_NAME               2 (__qualname__)\n",
      "\n",
      "  3          10 LOAD_CONST               1 (None)\n",
      "             12 RETURN_VALUE\n"
     ]
    }
   ],
   "source": [
    "class WTF:\n",
    "    pass\n",
    "\n",
    "\n",
    "dis.dis(\"\"\"\n",
    "class WTF:\n",
    "    pass\n",
    "    \"\"\"\n",
    ")"
   ]
  },
  {
   "cell_type": "code",
   "execution_count": 69,
   "id": "f5da09e4-2feb-486e-8b23-25a5b45aa1a1",
   "metadata": {
    "tags": []
   },
   "outputs": [
    {
     "name": "stdout",
     "output_type": "stream",
     "text": [
      "False\n",
      "False\n",
      "True\n",
      "True\n"
     ]
    }
   ],
   "source": [
    "print(WTF() == WTF()) # 结果为False\n",
    "print(WTF() is WTF()) # 结果为False\n",
    "print(hash(WTF()) == hash(WTF())) # 结果也应该False,实际上为True\n",
    "print(id(WTF()) == id(WTF())) # 结果为True"
   ]
  },
  {
   "cell_type": "markdown",
   "id": "0b59309c-80c4-4baf-a676-3eb85de51bad",
   "metadata": {
    "tags": []
   },
   "source": [
    "说明 \n",
    "\n",
    "- 当调用 `id` 函数时, Python 创建了一个 `WTF` 类的对象并传给 `id` 函数. 然后 `id` 函数获取其id值 (也就是内存地址), 然后丢弃该对象. 该对象就被销毁了.\n",
    "\n",
    "- 当我们连续两次进行这个操作时, Python会将相同的内存地址分配给第二个对象. 因为 (在CPython中) id 函数使用对象的内存地址作为对象的id值, 所以两个对象的id值是相同的.\n",
    "\n",
    "- 综上, 对象的id值仅仅在对象的生命周期内唯一. 在对象被销毁之后, 或被创建之前, 其他对象可以具有相同的id值."
   ]
  },
  {
   "cell_type": "code",
   "execution_count": 73,
   "id": "e4f0e9ba-76c1-4686-9d99-6b207adfb39c",
   "metadata": {
    "tags": []
   },
   "outputs": [
    {
     "name": "stdout",
     "output_type": "stream",
     "text": [
      "I\n",
      "I\n",
      "D\n",
      "D\n",
      "False\n",
      "I\n",
      "D\n",
      "I\n",
      "D\n",
      "True\n",
      "  0           0 RESUME                   0\n",
      "\n",
      "  2           2 PUSH_NULL\n",
      "              4 LOAD_BUILD_CLASS\n",
      "              6 LOAD_CONST               0 (<code object WTF at 0x7fd014c983b0, file \"<dis>\", line 2>)\n",
      "              8 MAKE_FUNCTION            0\n",
      "             10 LOAD_CONST               1 ('WTF')\n",
      "             12 LOAD_NAME                0 (object)\n",
      "             14 PRECALL                  3\n",
      "             18 CALL                     3\n",
      "             28 STORE_NAME               1 (WTF)\n",
      "\n",
      "  6          30 PUSH_NULL\n",
      "             32 LOAD_NAME                2 (print)\n",
      "             34 PUSH_NULL\n",
      "             36 LOAD_NAME                1 (WTF)\n",
      "             38 PRECALL                  0\n",
      "             42 CALL                     0\n",
      "             52 PUSH_NULL\n",
      "             54 LOAD_NAME                1 (WTF)\n",
      "             56 PRECALL                  0\n",
      "             60 CALL                     0\n",
      "             70 IS_OP                    0\n",
      "             72 PRECALL                  1\n",
      "             76 CALL                     1\n",
      "             86 POP_TOP\n",
      "             88 LOAD_CONST               2 (None)\n",
      "             90 RETURN_VALUE\n",
      "\n",
      "Disassembly of <code object WTF at 0x7fd014c983b0, file \"<dis>\", line 2>:\n",
      "  2           0 RESUME                   0\n",
      "              2 LOAD_NAME                0 (__name__)\n",
      "              4 STORE_NAME               1 (__module__)\n",
      "              6 LOAD_CONST               0 ('WTF')\n",
      "              8 STORE_NAME               2 (__qualname__)\n",
      "\n",
      "  3          10 LOAD_CONST               1 (<code object __init__ at 0x7fd02432f590, file \"<dis>\", line 3>)\n",
      "             12 MAKE_FUNCTION            0\n",
      "             14 STORE_NAME               3 (__init__)\n",
      "\n",
      "  4          16 LOAD_CONST               2 (<code object __del__ at 0x7fd014c989d0, file \"<dis>\", line 4>)\n",
      "             18 MAKE_FUNCTION            0\n",
      "             20 STORE_NAME               4 (__del__)\n",
      "             22 LOAD_CONST               3 (None)\n",
      "             24 RETURN_VALUE\n",
      "\n",
      "Disassembly of <code object __init__ at 0x7fd02432f590, file \"<dis>\", line 3>:\n",
      "  3           0 RESUME                   0\n",
      "              2 LOAD_GLOBAL              1 (NULL + print)\n",
      "             14 LOAD_CONST               1 ('I')\n",
      "             16 PRECALL                  1\n",
      "             20 CALL                     1\n",
      "             30 POP_TOP\n",
      "             32 LOAD_CONST               0 (None)\n",
      "             34 RETURN_VALUE\n",
      "\n",
      "Disassembly of <code object __del__ at 0x7fd014c989d0, file \"<dis>\", line 4>:\n",
      "  4           0 RESUME                   0\n",
      "              2 LOAD_GLOBAL              1 (NULL + print)\n",
      "             14 LOAD_CONST               1 ('D')\n",
      "             16 PRECALL                  1\n",
      "             20 CALL                     1\n",
      "             30 POP_TOP\n",
      "             32 LOAD_CONST               0 (None)\n",
      "             34 RETURN_VALUE\n",
      "****************************************************************************************************\n",
      "  0           0 RESUME                   0\n",
      "\n",
      "  2           2 PUSH_NULL\n",
      "              4 LOAD_BUILD_CLASS\n",
      "              6 LOAD_CONST               0 (<code object WTF at 0x7fd014c98490, file \"<dis>\", line 2>)\n",
      "              8 MAKE_FUNCTION            0\n",
      "             10 LOAD_CONST               1 ('WTF')\n",
      "             12 LOAD_NAME                0 (object)\n",
      "             14 PRECALL                  3\n",
      "             18 CALL                     3\n",
      "             28 STORE_NAME               1 (WTF)\n",
      "\n",
      "  6          30 PUSH_NULL\n",
      "             32 LOAD_NAME                2 (print)\n",
      "             34 PUSH_NULL\n",
      "             36 LOAD_NAME                3 (id)\n",
      "             38 PUSH_NULL\n",
      "             40 LOAD_NAME                1 (WTF)\n",
      "             42 PRECALL                  0\n",
      "             46 CALL                     0\n",
      "             56 PRECALL                  1\n",
      "             60 CALL                     1\n",
      "             70 PUSH_NULL\n",
      "             72 LOAD_NAME                3 (id)\n",
      "             74 PUSH_NULL\n",
      "             76 LOAD_NAME                1 (WTF)\n",
      "             78 PRECALL                  0\n",
      "             82 CALL                     0\n",
      "             92 PRECALL                  1\n",
      "             96 CALL                     1\n",
      "            106 COMPARE_OP               2 (==)\n",
      "            112 PRECALL                  1\n",
      "            116 CALL                     1\n",
      "            126 POP_TOP\n",
      "            128 LOAD_CONST               2 (None)\n",
      "            130 RETURN_VALUE\n",
      "\n",
      "Disassembly of <code object WTF at 0x7fd014c98490, file \"<dis>\", line 2>:\n",
      "  2           0 RESUME                   0\n",
      "              2 LOAD_NAME                0 (__name__)\n",
      "              4 STORE_NAME               1 (__module__)\n",
      "              6 LOAD_CONST               0 ('WTF')\n",
      "              8 STORE_NAME               2 (__qualname__)\n",
      "\n",
      "  3          10 LOAD_CONST               1 (<code object __init__ at 0x7fd02432f590, file \"<dis>\", line 3>)\n",
      "             12 MAKE_FUNCTION            0\n",
      "             14 STORE_NAME               3 (__init__)\n",
      "\n",
      "  4          16 LOAD_CONST               2 (<code object __del__ at 0x7fd014c9abf0, file \"<dis>\", line 4>)\n",
      "             18 MAKE_FUNCTION            0\n",
      "             20 STORE_NAME               4 (__del__)\n",
      "             22 LOAD_CONST               3 (None)\n",
      "             24 RETURN_VALUE\n",
      "\n",
      "Disassembly of <code object __init__ at 0x7fd02432f590, file \"<dis>\", line 3>:\n",
      "  3           0 RESUME                   0\n",
      "              2 LOAD_GLOBAL              1 (NULL + print)\n",
      "             14 LOAD_CONST               1 ('I')\n",
      "             16 PRECALL                  1\n",
      "             20 CALL                     1\n",
      "             30 POP_TOP\n",
      "             32 LOAD_CONST               0 (None)\n",
      "             34 RETURN_VALUE\n",
      "\n",
      "Disassembly of <code object __del__ at 0x7fd014c9abf0, file \"<dis>\", line 4>:\n",
      "  4           0 RESUME                   0\n",
      "              2 LOAD_GLOBAL              1 (NULL + print)\n",
      "             14 LOAD_CONST               1 ('D')\n",
      "             16 PRECALL                  1\n",
      "             20 CALL                     1\n",
      "             30 POP_TOP\n",
      "             32 LOAD_CONST               0 (None)\n",
      "             34 RETURN_VALUE\n"
     ]
    }
   ],
   "source": [
    "class WTF(object):\n",
    "    def __init__(self): print(\"I\")\n",
    "    def __del__(self): print(\"D\")\n",
    "    \n",
    "print(WTF() is WTF())\n",
    "print(id(WTF()) == id(WTF()))\n",
    "\n",
    "dis.dis(\"\"\"\n",
    "class WTF(object):\n",
    "    def __init__(self): print(\"I\")\n",
    "    def __del__(self): print(\"D\")\n",
    "\n",
    "print(WTF() is WTF())\n",
    "\"\"\"\n",
    ")\n",
    "\n",
    "print(\"*\"* 100)\n",
    "\n",
    "dis.dis(\"\"\"\n",
    "class WTF(object):\n",
    "    def __init__(self): print(\"I\")\n",
    "    def __del__(self): print(\"D\")\n",
    "\n",
    "print(id(WTF()) == id(WTF()))\n",
    "\"\"\"\n",
    ")"
   ]
  },
  {
   "cell_type": "code",
   "execution_count": 82,
   "id": "1df3025d-24bb-45f4-a8fa-17ec51e71b64",
   "metadata": {
    "tags": []
   },
   "outputs": [
    {
     "name": "stdout",
     "output_type": "stream",
     "text": [
      "I\n",
      "I\n",
      "140531937280400\n",
      "140531937290960\n",
      "False\n"
     ]
    }
   ],
   "source": [
    "a = WTF()\n",
    "b = WTF()\n",
    "print(id(a))\n",
    "print(id(b))\n",
    "print(a is b)"
   ]
  },
  {
   "cell_type": "code",
   "execution_count": 84,
   "id": "966fd608-3373-466f-92e8-8502b7e9b28b",
   "metadata": {
    "tags": []
   },
   "outputs": [
    {
     "name": "stdout",
     "output_type": "stream",
     "text": [
      "I\n",
      "D\n",
      "I\n",
      "D\n",
      "140531937229968\n",
      "140531937226896\n",
      "False\n"
     ]
    }
   ],
   "source": [
    "c = id(WTF())\n",
    "d = id(WTF())\n",
    "print(c)\n",
    "print(d)\n",
    "print(c == d)"
   ]
  },
  {
   "cell_type": "markdown",
   "id": "47ce9976-8d33-474e-a450-3adf9c1dafd2",
   "metadata": {
    "tags": []
   },
   "source": [
    "## 有序字典"
   ]
  },
  {
   "cell_type": "code",
   "execution_count": 86,
   "id": "536e4a65-7876-4760-b4e2-f240681670e7",
   "metadata": {
    "tags": []
   },
   "outputs": [
    {
     "name": "stdout",
     "output_type": "stream",
     "text": [
      "True\n",
      "True\n",
      "False\n"
     ]
    }
   ],
   "source": [
    "from collections import OrderedDict\n",
    "\n",
    "dictionary = dict()\n",
    "dictionary[1] = 'a'\n",
    "dictionary[2] = 'b'\n",
    "\n",
    "ordered_dict = OrderedDict()\n",
    "ordered_dict[1] = 'a'\n",
    "ordered_dict[2] = 'b';\n",
    "\n",
    "another_ordered_dict = OrderedDict()\n",
    "another_ordered_dict[2] = 'b'\n",
    "another_ordered_dict[1] = 'a';\n",
    "    \n",
    "print(dictionary == ordered_dict)\n",
    "print(dictionary == another_ordered_dict)\n",
    "print(ordered_dict == another_ordered_dict)"
   ]
  },
  {
   "cell_type": "code",
   "execution_count": 87,
   "id": "ad216ac6-0751-494e-ab33-d4cbdfc13ae5",
   "metadata": {
    "tags": []
   },
   "outputs": [
    {
     "ename": "TypeError",
     "evalue": "unhashable type: 'dict'",
     "output_type": "error",
     "traceback": [
      "\u001b[0;31m---------------------------------------------------------------------------\u001b[0m",
      "\u001b[0;31mTypeError\u001b[0m                                 Traceback (most recent call last)",
      "Cell \u001b[0;32mIn[87], line 1\u001b[0m\n\u001b[0;32m----> 1\u001b[0m \u001b[38;5;28mlen\u001b[39m({dictionary, ordered_dict, another_ordered_dict})\n",
      "\u001b[0;31mTypeError\u001b[0m: unhashable type: 'dict'"
     ]
    }
   ],
   "source": [
    " len({dictionary, ordered_dict, another_ordered_dict})"
   ]
  },
  {
   "cell_type": "code",
   "execution_count": 88,
   "id": "8f2613ab-3dc5-452a-9b99-ecdfcb79737f",
   "metadata": {
    "tags": []
   },
   "outputs": [
    {
     "name": "stdout",
     "output_type": "stream",
     "text": [
      "True\n",
      "True\n",
      "False\n",
      "1\n",
      "2\n"
     ]
    }
   ],
   "source": [
    "class DictWithHash(dict):\n",
    "    \"\"\"\n",
    "    实现了 __hash__ 魔法方法的dict类\n",
    "    \"\"\"\n",
    "    __hash__ = lambda self: 0\n",
    "\n",
    "class OrderedDictWithHash(OrderedDict):\n",
    "    \"\"\"\n",
    "    实现了 __hash__ 魔法方法的OrderedDict类\n",
    "    \"\"\"\n",
    "    __hash__ = lambda self: 0\n",
    "    \n",
    "    \n",
    "dictionary = DictWithHash()\n",
    "dictionary[1] = 'a'\n",
    "dictionary[2] = 'b'\n",
    "\n",
    "ordered_dict = OrderedDictWithHash()\n",
    "ordered_dict[1] = 'a'\n",
    "ordered_dict[2] = 'b';\n",
    "\n",
    "another_ordered_dict = OrderedDictWithHash()\n",
    "another_ordered_dict[2] = 'b'\n",
    "another_ordered_dict[1] = 'a';\n",
    "    \n",
    "print(dictionary == ordered_dict)\n",
    "print(dictionary == another_ordered_dict)\n",
    "print(ordered_dict == another_ordered_dict)\n",
    "\n",
    "print(len({dictionary, ordered_dict, another_ordered_dict}))\n",
    "print(len({ordered_dict, another_ordered_dict, dictionary}))"
   ]
  },
  {
   "cell_type": "markdown",
   "id": "758cce67-fa34-4871-86af-5a56ba0afc62",
   "metadata": {},
   "source": [
    "说明\n",
    "\n",
    "- 等号的传递性没有在 `dictionary`, `ordered_dict` 和 `another_ordered_dict` 之间生效是 `OrderedDict` 类中 `__eq__` 方法的实现方式造成的。根据[文档](https://docs.python.org/zh-cn/3/library/collections.html#ordereddict-objects)以下部分:\n",
    "\n",
    "> 对于 `OrderedDict` 类之间，相等性的判定是位置敏感的，实现类似于 `list(od1.items())==list(od2.items())`。对于 `OrderedDict` 类与其他 `Mapping` 对象（例如dict 类），相等性的判定是非位置敏感的。\n",
    "\n",
    "- 这是为了任何使用常规 dict 类的地方能够直接使用 OrderedDict 对象代替。"
   ]
  },
  {
   "cell_type": "markdown",
   "id": "c77e77ee-e9f2-4fd8-8501-26f60ac0c4fb",
   "metadata": {},
   "source": [
    "## 不停的try"
   ]
  },
  {
   "cell_type": "code",
   "execution_count": 91,
   "id": "35da894d-4e70-4743-a3ae-f0c8bcfac96a",
   "metadata": {
    "tags": []
   },
   "outputs": [
    {
     "name": "stdout",
     "output_type": "stream",
     "text": [
      "from_finally\n",
      "Finally!\n",
      "Finally!\n",
      "Finally!\n",
      "Iteration 0\n"
     ]
    }
   ],
   "source": [
    "def some_func():\n",
    "    try:\n",
    "        return 'from_try'\n",
    "    finally:\n",
    "        return 'from_finally'\n",
    "\n",
    "def another_func(): \n",
    "    for _ in range(3):\n",
    "        try:\n",
    "            continue\n",
    "        finally:\n",
    "            print(\"Finally!\")\n",
    "\n",
    "def one_more_func(): # A gotcha!\n",
    "    try:\n",
    "        for i in range(3):\n",
    "            try:\n",
    "                1 / i\n",
    "            except ZeroDivisionError:\n",
    "                # Let's throw it here and handle it outside for loop\n",
    "                raise ZeroDivisionError(\"A trivial divide by zero error\")\n",
    "            finally:\n",
    "                print(\"Iteration\", i)\n",
    "                break\n",
    "    except ZeroDivisionError as e:\n",
    "        print(\"Zero division error occurred\", e)\n",
    "        \n",
    "print(some_func())\n",
    "another_func()\n",
    "one_more_func()"
   ]
  },
  {
   "cell_type": "markdown",
   "id": "271d1dc5-f0f3-40e5-a199-e7ffd8ceb04b",
   "metadata": {},
   "source": [
    "说明\n",
    "\n",
    "- 当在 \"try...finally\" 语句的 `try` 中执行 `return`, `break` 或 `continue` 后, `finally` 子句依然会执行.\n",
    "- 函数的返回值由最后执行的 `return` 语句决定. 由于 `finally` 子句一定会执行, 所以 `finally` 子句中的 `return` 将始终是最后执行的语句.\n",
    "- 这里需要注意的是，如果 `finally` 子句执行 `return` 或 `break` 语句，临时保存的异常将被丢弃"
   ]
  },
  {
   "cell_type": "markdown",
   "id": "524b4989-63a5-4f2b-be03-91abf80fd1b0",
   "metadata": {},
   "source": [
    "## for循环"
   ]
  },
  {
   "cell_type": "code",
   "execution_count": 92,
   "id": "748a3201-3070-4de1-b1b8-b8a22e08ff60",
   "metadata": {
    "tags": []
   },
   "outputs": [
    {
     "name": "stdout",
     "output_type": "stream",
     "text": [
      "{0: 'w', 1: 't', 2: 'f'}\n"
     ]
    }
   ],
   "source": [
    "some_string = \"wtf\"\n",
    "some_dict = {}\n",
    "for i, some_dict[i] in enumerate(some_string):\n",
    "    pass\n",
    "\n",
    "print(some_dict)"
   ]
  },
  {
   "cell_type": "markdown",
   "id": "c529a8e1-ca39-4b23-a850-20e1321fa087",
   "metadata": {},
   "source": [
    "说明\n",
    "\n",
    "- [Python 语法](https://docs.python.org/3/reference/grammar.html) 中对 `for` 的定义是:\n",
    "```\n",
    "for_stmt: 'for' exprlist 'in' testlist ':' suite ['else' ':' suite]\n",
    "```\n",
    "其中 exprlist 指分配目标. 这意味着对可迭代对象中的每一项都会执行类似 {exprlist} = {next_value} 的操作.\n",
    "\n",
    "一个有趣的例子说明了这一点:\n",
    "```python\n",
    "for i in range(4):\n",
    "    print(i)\n",
    "    i = 10\n",
    "```\n",
    "Output:\n",
    "```\n",
    "0\n",
    "1\n",
    "2\n",
    "3\n",
    "```\n",
    "\n",
    "由于循环在Python中工作方式, 赋值语句 `i = 10` 并不会影响迭代循环, 在每次迭代开始之前, 迭代器(这里指 `range(4)`) 生成的下一个元素就被解包并赋值给目标列表的变量(这里指 `i`)了.\n",
    "    "
   ]
  },
  {
   "cell_type": "markdown",
   "id": "37d6af46-681b-40e2-8bfb-a12f2f5ecde9",
   "metadata": {},
   "source": [
    "## 生成器"
   ]
  },
  {
   "cell_type": "code",
   "execution_count": 93,
   "id": "695c4596-7a9d-4afb-81ca-83624ce8dbdf",
   "metadata": {
    "tags": []
   },
   "outputs": [
    {
     "name": "stdout",
     "output_type": "stream",
     "text": [
      "[1, 8, 15]\n"
     ]
    }
   ],
   "source": [
    "array = [1, 8, 15]\n",
    "# 一个典型的生成器表达式\n",
    "g = (x for x in array if array.count(x) > 0)\n",
    "print(list(g))"
   ]
  },
  {
   "cell_type": "code",
   "execution_count": 95,
   "id": "cbe70ab2-3b55-46ad-8e1f-13a556dd06e0",
   "metadata": {
    "tags": []
   },
   "outputs": [
    {
     "name": "stdout",
     "output_type": "stream",
     "text": [
      "[8]\n"
     ]
    }
   ],
   "source": [
    "array = [1, 8, 15]\n",
    "# 一个典型的生成器表达式\n",
    "g = (x for x in array if array.count(x) > 0)\n",
    "array = [2, 8, 22] # 将array的内容修改 结果只有8一个元素了\n",
    "print(list(g))"
   ]
  },
  {
   "cell_type": "code",
   "execution_count": 96,
   "id": "037d8def-d925-4750-a75b-6d5190fb7024",
   "metadata": {
    "tags": []
   },
   "outputs": [
    {
     "name": "stdout",
     "output_type": "stream",
     "text": [
      "[1, 2, 3, 4]\n",
      "[1, 2, 3, 4, 5]\n"
     ]
    }
   ],
   "source": [
    "array_1 = [1,2,3,4]\n",
    "g1 = (x for x in array_1)\n",
    "array_1 = [1,2,3,4,5]\n",
    "\n",
    "array_2 = [1,2,3,4]\n",
    "g2 = (x for x in array_2)\n",
    "array_2[:] = [1,2,3,4,5]\n",
    "print(list(g1))\n",
    "print(list(g2))"
   ]
  },
  {
   "cell_type": "code",
   "execution_count": 100,
   "id": "db085f98-0129-429c-9470-d764347ffefd",
   "metadata": {
    "tags": []
   },
   "outputs": [
    {
     "name": "stdout",
     "output_type": "stream",
     "text": [
      "[401, 501, 601, 402, 502, 602, 403, 503, 603]\n"
     ]
    }
   ],
   "source": [
    "array_3 = [1, 2, 3]\n",
    "array_4 = [10, 20, 30]\n",
    "gen = (i + j for i in array_3 for j in array_4)\n",
    "\n",
    "array_3 = [4, 5, 6] \n",
    "array_4 = [400, 500, 600]\n",
    "print(list(gen))"
   ]
  },
  {
   "cell_type": "markdown",
   "id": "79392573-24ce-48b5-82fe-105537fed799",
   "metadata": {},
   "source": [
    "说明\n",
    "- 在生成器表达式中, `in` 子句在声明时执行, 而条件子句则是在运行时执行.\n",
    "    - 所以在运行前, `array` 已经被重新赋值为 `[2, 8, 22]`, 因此对于之前的 `1`, `8` 和 `15`, 只有 `count(8)` 的结果是大于 `0` 的, 所以生成器只会生成 8.\n",
    "- 第二部分中 `g1` 和 `g2` 的输出差异则是由于变量 `array_1` 和 `array_2` 被重新赋值的方式导致的.\n",
    "    - 在第一种情况下, `array_1` 被绑定到新对象 `[1,2,3,4,5]`, 因为 `in` 子句是在声明时被执行的， 所以它仍然引用旧对象 `[1,2,3,4]`(并没有被销毁).\n",
    "    - 在第二种情况下, 对 `array_2` 的切片赋值将相同的旧对象 `[1,2,3,4]` 原地更新为 `[1,2,3,4,5]`. 因此 `g2` 和 `array_2` 仍然引用同一个对象(这个对象现在已经更新为 `[1,2,3,4,5]`).\n",
    "- 按照目前讨论的逻辑，第三个代码段中的 `list(gen)` 的值不应该是 `[11, 21, 31, 12, 22, 32, 13, 23, 33]` 吗? （毕竟 `array_3` 和 `array_4` 的行为与 `array_1` 一样）。 [PEP-289](https://www.python.org/dev/peps/pep-0289/#the-details) 中解释了（只有）`array_4` 值更新的原因\n",
    "\n",
    "> 只有最外层的 for 表达式会立即计算，其他表达式会延迟到生成器运行。"
   ]
  },
  {
   "cell_type": "markdown",
   "id": "69b72caf-268c-4b28-bb42-0bdd52fccedd",
   "metadata": {},
   "source": [
    "## is not xxx 不是 is (not xxx)"
   ]
  },
  {
   "cell_type": "markdown",
   "id": "f42e88ef-2fcc-4e0f-a7a2-3fd88e609e6b",
   "metadata": {},
   "source": [
    "## *号用法"
   ]
  },
  {
   "cell_type": "markdown",
   "id": "3cfb228c-f6a9-46ab-8c65-c7bf38d3e1f5",
   "metadata": {
    "tags": []
   },
   "source": [
    "## object和type"
   ]
  },
  {
   "cell_type": "markdown",
   "id": "2534d00c-8079-4258-968c-c97e8c17b3e4",
   "metadata": {
    "tags": []
   },
   "source": [
    "## 子类"
   ]
  },
  {
   "cell_type": "markdown",
   "id": "7afd1236-695c-44ad-a4e0-127a6963574e",
   "metadata": {},
   "source": [
    "## 方法的相等性和唯一性"
   ]
  },
  {
   "cell_type": "code",
   "execution_count": 110,
   "id": "8654d4c6-a6a4-4984-a81b-16f08a665488",
   "metadata": {
    "tags": []
   },
   "outputs": [
    {
     "name": "stdout",
     "output_type": "stream",
     "text": [
      "True\n",
      "False\n",
      "True\n",
      "True\n",
      "a: <function SomeClass.method at 0x7fd0148d1940>, b: <function SomeClass.method at 0x7fd0148d1940>, id(a): 140531674716480, id(b): 140531674716480\n",
      "a: <bound method SomeClass.classm of <class '__main__.SomeClass'>>, b: <bound method SomeClass.classm of <class '__main__.SomeClass'>>, id(a): 140531677812160, id(b): 140531677817216\n",
      "a: <function SomeClass.staticm at 0x7fd0148d0040>, b: <function SomeClass.staticm at 0x7fd0148d0040>, id(a): 140531674710080, id(b): 140531674710080\n"
     ]
    }
   ],
   "source": [
    "class SomeClass:\n",
    "    def method(self):\n",
    "        pass\n",
    "\n",
    "    @classmethod\n",
    "    def classm(cls):\n",
    "        pass\n",
    "\n",
    "    @staticmethod\n",
    "    def staticm():\n",
    "        pass\n",
    "    \n",
    "print(SomeClass.method is SomeClass.method)\n",
    "print(SomeClass.classm is SomeClass.classm)\n",
    "print(SomeClass.classm == SomeClass.classm)\n",
    "print(SomeClass.staticm is SomeClass.staticm)\n",
    "\n",
    "a = SomeClass.method\n",
    "b = SomeClass.method\n",
    "print(f\"a: {a}, b: {b}, id(a): {id(a)}, id(b): {id(b)}\")\n",
    "\n",
    "a = SomeClass.classm\n",
    "b = SomeClass.classm\n",
    "print(f\"a: {a}, b: {b}, id(a): {id(a)}, id(b): {id(b)}\")\n",
    "\n",
    "a = SomeClass.staticm\n",
    "b = SomeClass.staticm\n",
    "print(f\"a: {a}, b: {b}, id(a): {id(a)}, id(b): {id(b)}\")"
   ]
  },
  {
   "cell_type": "code",
   "execution_count": 115,
   "id": "0f1b9e51-52a9-4c4e-87ba-94e9c56467b4",
   "metadata": {
    "tags": []
   },
   "outputs": [
    {
     "name": "stdout",
     "output_type": "stream",
     "text": [
      "a: <bound method SomeClass.method of <__main__.SomeClass object at 0x7fd014b7d1d0>>, b: <bound method SomeClass.method of <__main__.SomeClass object at 0x7fd014b7fb50>>, a == b: False, a is b: False, id(a): 140531936927232, id(b): 140531677519616\n",
      "a: <bound method SomeClass.method of <__main__.SomeClass object at 0x7fd014b7d1d0>>, b: <bound method SomeClass.method of <__main__.SomeClass object at 0x7fd014b7d1d0>>, a == b: True, a is b: False, id(a): 140531677518912, id(b): 140531936927232\n",
      "a: <bound method SomeClass.classm of <class '__main__.SomeClass'>>, b: <bound method SomeClass.classm of <class '__main__.SomeClass'>>, a == b: True, a is b: False, id(a): 140531677512512, id(b): 140531677513472\n",
      "a == b == c == d: True\n",
      "a is b is c is d: False\n",
      "a is b is c is d: True\n"
     ]
    }
   ],
   "source": [
    "o1 = SomeClass()\n",
    "o2 = SomeClass()\n",
    "\n",
    "a = o1.method\n",
    "b = o2.method\n",
    "print(f\"a: {a}, b: {b}, a == b: {a==b}, a is b: {a is b}, id(a): {id(a)}, id(b): {id(b)}\")\n",
    "\n",
    "a = o1.method\n",
    "b = o1.method\n",
    "print(f\"a: {a}, b: {b}, a == b: {a==b}, a is b: {a is b}, id(a): {id(a)}, id(b): {id(b)}\")\n",
    "\n",
    "a = o1.classm\n",
    "b = o1.classm\n",
    "print(f\"a: {a}, b: {b}, a == b: {a==b}, a is b: {a is b}, id(a): {id(a)}, id(b): {id(b)}\")\n",
    "\n",
    "\n",
    "a = o1.classm\n",
    "b = o1.classm\n",
    "c = o2.classm\n",
    "d = SomeClass.classm\n",
    "print(f\"a == b == c == d: {a == b == c == d}\")\n",
    "print(f\"a is b is c is d: {a is b is c is d}\")\n",
    "\n",
    "a = o1.staticm\n",
    "b = o1.staticm\n",
    "c = o2.staticm\n",
    "d = SomeClass.staticm\n",
    "print(f\"a is b is c is d: {a is b is c is d}\")"
   ]
  },
  {
   "cell_type": "markdown",
   "id": "095ddf6d-b1e6-408d-a1c3-27b79273d8e9",
   "metadata": {},
   "source": [
    "说明\n",
    "\n",
    "- 访问  `classm` or `method` 两次, 为 `SomeClass` 的同一个实例创建了相等但是不同的对象。 \n",
    "```python\n",
    "a = o1.method\n",
    "b = o1.method\n",
    "print(f\"a: {a}, b: {b}, a == b: {a==b}, a is b: {a is b}, id(a): {id(a)}, id(b): {id(b)}\")\n",
    "```\n",
    "输出\n",
    "```\n",
    "a: <bound method SomeClass.method of <__main__.SomeClass object at 0x7fd014b7d1d0>>, b: <bound method SomeClass.method of <__main__.SomeClass object at 0x7fd014b7d1d0>>, a == b: True, a is b: False, id(a): 140531677518912, id(b): 140531936927232\n",
    "```\n",
    "\n",
    "- 函数是描述符。每当将函数作为属性访问时，就会调用描述符，创建一个方法对象，该对象将函数与拥有该属性的对象“绑定”。如果被调用，该方法调用函数，隐式传递绑定对象作为第一个参数（这就是我们如何将 `self` 作为第一个参数获取，尽管没有显式传递它）。\n",
    "\n",
    "```python\n",
    ">>> o1.method\n",
    "<bound method SomeClass.method of <__main__.SomeClass object at ...>>\n",
    "```\n",
    "\n",
    "- 多次访问该属性，每次都会创建一个方法对象！ 因此，`o1.method is o1.method` 永远不会是真的。但是，将函数作为类属性（而不是实例）访问并不会创建方法对象，所以 `SomeClass.method is SomeClass.method` 是真的。\n",
    "```python\n",
    ">>> SomeClass.method\n",
    "<function SomeClass.method at ...>\n",
    "```\n",
    "\n",
    "- `classmethod` 将函数转换为类方法。 类方法是描述符，当被访问时，它会创建一个绑定类本身的方法对象，而不是对象本身。\n",
    "```python\n",
    ">>> o1.classm\n",
    "<bound method SomeClass.classm of <class '__main__.SomeClass'>>\n",
    "```\n",
    "\n",
    "- 与函数不同，`classmethod` 在作为类属性访问时也会创建一个方法（在这种情况下，它们绑定类，而不是类的类型）。 所以 `SomeClass.classm is SomeClass.classm` 是假的。\n",
    "```python\n",
    ">>> SomeClass.classm\n",
    "<bound method SomeClass.classm of <class '__main__.SomeClass'>>\n",
    "```\n",
    "\n",
    "- 当两个函数相等并且绑定的对象相同时，方法对象比较相等。 所以`o1.method == o1.method` 为真，尽管它们在内存中是两个不同的对象。\n",
    "\n",
    "- `staticmethod` 将函数转换为“无操作”描述符，它按原样返回函数。没有方法对象被创建，所以 `is` 的比较运算为真。\n",
    "```python\n",
    ">>> o1.staticm\n",
    "<function SomeClass.staticm at ...>\n",
    ">>> SomeClass.staticm\n",
    "<function SomeClass.staticm at ...>\n",
    "```\n",
    "\n",
    "- 每次 Python 调用实例方法时都必须创建新的“方法”对象，并且每次都必须修改参数以插入 `self` 严重影响性能。`CPython 3.7` [解决了这个问题](https://bugs.python.org/issue26110) 。通过引入新的操作码来处理调用方法而不创建临时方法对象。这仅在实际调用访问的函数时使用，因此这里的代码片段不受影响，仍然会生成方法:)"
   ]
  },
  {
   "cell_type": "code",
   "execution_count": 134,
   "id": "c6aa9f96-64f6-4c01-9364-94f3f70b04f8",
   "metadata": {
    "tags": []
   },
   "outputs": [
    {
     "name": "stdout",
     "output_type": "stream",
     "text": [
      "[6, 6, 6, 6]\n",
      "FullArgSpec(args=['name', 'age', 'sex'], varargs=None, varkw=None, defaults=(2, 1), kwonlyargs=[], kwonlydefaults=None, annotations={})\n"
     ]
    }
   ],
   "source": [
    "def multipliers():\n",
    "    return [lambda x : i * x for i in range(4)]\n",
    "    \n",
    "print([m(2) for m in multipliers()]) # [6,6,6,6]\n",
    "\n",
    "# import inspect\n",
    "# res = multipliers()\n",
    "# for item in res:\n",
    "#     print(inspect.getclosurevars(item))\n",
    "    \n",
    "    \n",
    "def foo(name, age=2, sex=1):\n",
    "    print(name)\n",
    "    \n",
    "print(inspect.getfullargspec(foo))\n"
   ]
  },
  {
   "cell_type": "code",
   "execution_count": 3,
   "id": "de9440cd-e0ba-454e-8c8e-508e7759cc11",
   "metadata": {
    "tags": []
   },
   "outputs": [
    {
     "name": "stdout",
     "output_type": "stream",
     "text": [
      "4\n",
      "3\n"
     ]
    }
   ],
   "source": [
    "\n",
    "# 一个简单的例子, 统计下面可迭代对象中的布尔型值的个数和整型值的个数\n",
    "mixed_list = [False, 1.0, \"some_string\", 3, True, [], False]\n",
    "integers_found_so_far = 0\n",
    "booleans_found_so_far = 0\n",
    "\n",
    "for item in mixed_list:\n",
    "    if isinstance(item, int):\n",
    "        integers_found_so_far += 1\n",
    "    if isinstance(item, bool):\n",
    "        booleans_found_so_far += 1\n",
    "print(integers_found_so_far)\n",
    "print(booleans_found_so_far)"
   ]
  },
  {
   "cell_type": "code",
   "execution_count": 5,
   "id": "1a8e7a25-db8a-482e-ac64-c6743e820e13",
   "metadata": {
    "tags": []
   },
   "outputs": [
    {
     "name": "stdout",
     "output_type": "stream",
     "text": [
      "True\n",
      "True\n",
      "True\n",
      "True\n",
      "True\n"
     ]
    }
   ],
   "source": [
    "print(issubclass(bool, int))\n",
    "print(isinstance(True, int))\n",
    "print(isinstance(False, int))\n",
    "print(isinstance(True, bool))\n",
    "print(isinstance(False, bool))"
   ]
  },
  {
   "cell_type": "code",
   "execution_count": 8,
   "id": "8906548b-83e3-430d-8cde-a623f88d1b30",
   "metadata": {
    "tags": []
   },
   "outputs": [
    {
     "name": "stdout",
     "output_type": "stream",
     "text": [
      "1 1 1\n",
      "94701593490024 94701593490024 94701593490024\n",
      "1 2 1\n",
      "94701593490024 94701593490056 94701593490024\n",
      "1 2 3\n",
      "94701593490024 94701593490056 94701593490088\n"
     ]
    }
   ],
   "source": [
    "class Persion(object):\n",
    "    x = 1\n",
    "    \n",
    "class Man(Persion):\n",
    "    pass\n",
    "\n",
    "class Woman(Persion):\n",
    "    pass\n",
    "\n",
    "print(Persion.x, Man.x, Woman.x)\n",
    "print(id(Persion.x), id(Man.x), id(Woman.x))\n",
    "\n",
    "Man.x = 2\n",
    "print(Persion.x, Man.x, Woman.x)\n",
    "print(id(Persion.x), id(Man.x), id(Woman.x))\n",
    "\n",
    "Woman.x = 3\n",
    "print(Persion.x, Man.x, Woman.x)\n",
    "print(id(Persion.x), id(Man.x), id(Woman.x))"
   ]
  },
  {
   "cell_type": "code",
   "execution_count": 18,
   "id": "07ab4463-85d9-4729-b0cc-b4a69b5ad5e7",
   "metadata": {
    "tags": []
   },
   "outputs": [
    {
     "name": "stdout",
     "output_type": "stream",
     "text": [
      "{'a': 1, 'b': 2, 'c': 3, 'd': 4, 'e': 5}\n",
      "[0, 1, 2, 3, 4, 5, 6, 7, 8, 9]\n",
      "[]\n",
      "[1, 2, 3, 4, 5]\n",
      "[1, 2, 3, 4, 5]\n",
      "{0: 0, 1: 1, 2: 4, 3: 9, 4: 16, 5: 25, 6: 36, 7: 49, 8: 64, 9: 81}\n",
      "[[0, 0], [1, 1], [2, 4], [3, 9], [4, 16], [5, 25], [6, 36], [7, 49], [8, 64], [9, 81]]\n"
     ]
    }
   ],
   "source": [
    "A0 = dict(zip(('a','b','c','d','e'),(1,2,3,4,5)))\n",
    "print(A0)\n",
    "A1 = list(range(10))\n",
    "print(A1)\n",
    "A2 = [i for i in A1 if i in A0] # []\n",
    "print(A2)\n",
    "A3 = [A0[s] for s in A0]  # [1,2,3,4,5]\n",
    "print(A3)\n",
    "A4 = [i for i in A1 if i in A3] # [1,2,3,4,5]\n",
    "print(A4)\n",
    "A5 = {i: i*i for i in A1} # {0:0, 1:1, 2:4, 3:9, ...... ,9:81}\n",
    "print(A5)\n",
    "A6 = [[i, i*i] for i in A1]  # [[0,0],[1,1],[2,4], ...... , [9,81]]\n",
    "print(A6)"
   ]
  },
  {
   "cell_type": "code",
   "execution_count": 20,
   "id": "af96ae2a-5baf-481d-9138-150572fd70b9",
   "metadata": {
    "tags": []
   },
   "outputs": [
    {
     "name": "stdout",
     "output_type": "stream",
     "text": [
      "[{'num': 0}, {'num': 1}, {'num': 2}, {'num': 3}, {'num': 4}, {'num': 5}, {'num': 6}, {'num': 7}, {'num': 8}, {'num': 9}]\n"
     ]
    }
   ],
   "source": [
    "l = []\n",
    "for i in range(10):\n",
    "    l.append({\"num\":i})\n",
    "print(l)"
   ]
  },
  {
   "cell_type": "code",
   "execution_count": 21,
   "id": "d6a552e5-f73b-4840-b293-4730b73859b1",
   "metadata": {
    "tags": []
   },
   "outputs": [
    {
     "name": "stdout",
     "output_type": "stream",
     "text": [
      "[{'num': 9}, {'num': 9}, {'num': 9}, {'num': 9}, {'num': 9}, {'num': 9}, {'num': 9}, {'num': 9}, {'num': 9}, {'num': 9}]\n"
     ]
    }
   ],
   "source": [
    "l = []\n",
    "a = {\"num\": 0}\n",
    "for i in range(10):\n",
    "    a[\"num\"] = i\n",
    "    l.append(a)\n",
    "print(l)"
   ]
  },
  {
   "cell_type": "code",
   "execution_count": 30,
   "id": "ab38c6aa-12b4-4887-9f34-4b94f8780f04",
   "metadata": {
    "tags": []
   },
   "outputs": [
    {
     "name": "stdout",
     "output_type": "stream",
     "text": [
      "__new__\n",
      "__init__\n",
      "hello world\n",
      "hello 18 man\n"
     ]
    }
   ],
   "source": [
    "class Persion(object):\n",
    "    def __init__(self, name, age, sex):\n",
    "        print(\"__init__\")\n",
    "        self.name = name\n",
    "        self.age = age\n",
    "        self.sex = sex\n",
    "    \n",
    "    def __new__(cls, *args, **kwargs):\n",
    "        print(\"__new__\")\n",
    "        obj = super().__new__(cls)\n",
    "        return obj\n",
    "        \n",
    "    def say(self):\n",
    "        print(\"hello world\")\n",
    "        \n",
    "        \n",
    "p = Persion(\"hello\", 18, \"man\")\n",
    "p.say()\n",
    "print(p.name, p.age, p.sex)"
   ]
  },
  {
   "cell_type": "code",
   "execution_count": 37,
   "id": "5f3a8195-bfd5-4a2b-a04f-1150a5b73418",
   "metadata": {
    "tags": []
   },
   "outputs": [
    {
     "name": "stdout",
     "output_type": "stream",
     "text": [
      "0.644882972614516\n",
      "9.95203691893735\n",
      "1\n",
      "0\n",
      "6\n"
     ]
    }
   ],
   "source": [
    "import random\n",
    "\n",
    "print(random.random())\n",
    "print(random.uniform(0, 10))\n",
    "print(random.randint(0, 10))\n",
    "print(random.randrange(0, 10, 2))\n",
    "print(random.choice([1,2,4,5,6]))"
   ]
  },
  {
   "cell_type": "code",
   "execution_count": 39,
   "id": "5cb956e7-b847-4328-9969-f65b24b367ae",
   "metadata": {
    "tags": []
   },
   "outputs": [
    {
     "name": "stdout",
     "output_type": "stream",
     "text": [
      "2023-01-01 14:05:17.651136\n",
      "2023-11-03 14:05:17.651136\n",
      "306 days, 0:00:00\n",
      "306\n"
     ]
    }
   ],
   "source": [
    "import datetime\n",
    "\n",
    "now = datetime.datetime.now()\n",
    "start = now.replace(month=1).replace(day=1)\n",
    "\n",
    "print(start)\n",
    "print(now)\n",
    "diff = now - start\n",
    "print(diff)\n",
    "days = diff.days\n",
    "print(days)"
   ]
  },
  {
   "cell_type": "code",
   "execution_count": 46,
   "id": "ca09bdde-4222-472b-aa2c-38a4e2e64dcb",
   "metadata": {
    "tags": []
   },
   "outputs": [
    {
     "name": "stdout",
     "output_type": "stream",
     "text": [
      "<class 'generator'>\n",
      "<generator object _walk at 0x7fd79d5dab60>\n"
     ]
    }
   ],
   "source": [
    "import os\n",
    "\n",
    "res = os.walk(\".\")\n",
    "print(type(res))\n",
    "\n",
    "print(res)"
   ]
  },
  {
   "cell_type": "code",
   "execution_count": 57,
   "id": "0f6cf8d4-5e7a-44fb-8441-c7d8869393d5",
   "metadata": {
    "tags": []
   },
   "outputs": [
    {
     "name": "stdout",
     "output_type": "stream",
     "text": [
      "  2           0 RETURN_GENERATOR\n",
      "              2 POP_TOP\n",
      "              4 RESUME                   0\n",
      "\n",
      "  3           6 LOAD_GLOBAL              1 (NULL + print)\n",
      "             18 LOAD_CONST               1 ('foo')\n",
      "             20 PRECALL                  1\n",
      "             24 CALL                     1\n",
      "             34 POP_TOP\n",
      "\n",
      "  4          36 NOP\n",
      "\n",
      "  5     >>   38 LOAD_CONST               3 (4)\n",
      "             40 YIELD_VALUE\n",
      "             42 RESUME                   1\n",
      "             44 STORE_FAST               0 (res)\n",
      "\n",
      "  6          46 LOAD_GLOBAL              1 (NULL + print)\n",
      "             58 LOAD_CONST               4 ('res=')\n",
      "             60 LOAD_FAST                0 (res)\n",
      "             62 FORMAT_VALUE             2 (repr)\n",
      "             64 BUILD_STRING             2\n",
      "             66 PRECALL                  1\n",
      "             70 CALL                     1\n",
      "             80 POP_TOP\n",
      "\n",
      "  4          82 JUMP_BACKWARD           23 (to 38)\n",
      "<class 'generator'> <generator object foo at 0x7fd77e76d490>\n",
      "foo\n",
      "n=4\n",
      "res=None\n",
      "n=4\n"
     ]
    }
   ],
   "source": [
    "import dis\n",
    "def foo():\n",
    "    print(\"foo\")\n",
    "    while True:\n",
    "        res = yield 4\n",
    "        print(f\"{res=}\")\n",
    "            \n",
    "dis.dis(foo)\n",
    "\n",
    "gen = foo()\n",
    "print(type(gen), gen)\n",
    "\n",
    "n = next(gen)\n",
    "print(f\"{n=}\")\n",
    "n = next(gen)\n",
    "print(f\"{n=}\")"
   ]
  },
  {
   "cell_type": "code",
   "execution_count": 67,
   "id": "f59251a9-b199-49b0-8ef1-f4f7de97434f",
   "metadata": {
    "tags": []
   },
   "outputs": [
    {
     "name": "stdout",
     "output_type": "stream",
     "text": [
      "         7 function calls in 0.051 seconds\n",
      "\n",
      "   Ordered by: standard name\n",
      "\n",
      "   ncalls  tottime  percall  cumtime  percall filename:lineno(function)\n",
      "        1    0.000    0.000    0.050    0.050 1653989491.py:1(f1)\n",
      "        1    0.011    0.011    0.011    0.011 1653989491.py:3(<listcomp>)\n",
      "        1    0.006    0.006    0.006    0.006 1653989491.py:4(<listcomp>)\n",
      "        1    0.001    0.001    0.051    0.051 <string>:1(<module>)\n",
      "        1    0.000    0.000    0.051    0.051 {built-in method builtins.exec}\n",
      "        1    0.034    0.034    0.034    0.034 {built-in method builtins.sorted}\n",
      "        1    0.000    0.000    0.000    0.000 {method 'disable' of '_lsprof.Profiler' objects}\n",
      "\n",
      "\n",
      "         7 function calls in 0.027 seconds\n",
      "\n",
      "   Ordered by: standard name\n",
      "\n",
      "   ncalls  tottime  percall  cumtime  percall filename:lineno(function)\n",
      "        1    0.005    0.005    0.005    0.005 1653989491.py:10(<listcomp>)\n",
      "        1    0.000    0.000    0.026    0.026 1653989491.py:7(f2)\n",
      "        1    0.009    0.009    0.009    0.009 1653989491.py:8(<listcomp>)\n",
      "        1    0.001    0.001    0.027    0.027 <string>:1(<module>)\n",
      "        1    0.000    0.000    0.027    0.027 {built-in method builtins.exec}\n",
      "        1    0.013    0.013    0.013    0.013 {built-in method builtins.sorted}\n",
      "        1    0.000    0.000    0.000    0.000 {method 'disable' of '_lsprof.Profiler' objects}\n",
      "\n",
      "\n"
     ]
    }
   ],
   "source": [
    "def f1(a_list):\n",
    "    l1 = sorted(a_list)\n",
    "    l2 = [i for i in l1 if i < 0.5]\n",
    "    res = [i*i for i in l2]\n",
    "    return res\n",
    "\n",
    "def f2(a_list):\n",
    "    l1 = [i for i in a_list if i < 0.5]\n",
    "    l2 = sorted(l1)\n",
    "    res = [i * i for i in l2]\n",
    "    return res\n",
    "\n",
    "import random\n",
    "a_list = [random.random() for i in range(100000)]\n",
    "import cProfile\n",
    "\n",
    "cProfile.run('f1(a_list)')\n",
    "cProfile.run('f2(a_list)')"
   ]
  },
  {
   "cell_type": "code",
   "execution_count": null,
   "id": "ea60604b-3229-4a41-ae69-a282860d9eba",
   "metadata": {},
   "outputs": [],
   "source": []
  }
 ],
 "metadata": {
  "kernelspec": {
   "display_name": "Python [conda env:miniconda3-py311]",
   "language": "python",
   "name": "conda-env-miniconda3-py311-py"
  },
  "language_info": {
   "codemirror_mode": {
    "name": "ipython",
    "version": 3
   },
   "file_extension": ".py",
   "mimetype": "text/x-python",
   "name": "python",
   "nbconvert_exporter": "python",
   "pygments_lexer": "ipython3",
   "version": "3.11.4"
  }
 },
 "nbformat": 4,
 "nbformat_minor": 5
}
